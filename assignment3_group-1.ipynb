{
 "cells": [
  {
   "cell_type": "code",
   "execution_count": 1,
   "metadata": {},
   "outputs": [],
   "source": [
    "import numpy as np\n",
    "from tqdm import tqdm\n",
    "import matplotlib.pyplot as plt\n",
    "\n",
    "import warnings\n",
    "warnings.filterwarnings('ignore')\n",
    "\n",
    "from typing import List\n"
   ]
  },
  {
   "cell_type": "markdown",
   "metadata": {},
   "source": [
    "<h1> Task 1 </h1>"
   ]
  },
  {
   "cell_type": "code",
   "execution_count": 2,
   "metadata": {},
   "outputs": [
    {
     "name": "stdout",
     "output_type": "stream",
     "text": [
      "{-1: 0, 0: 1126, 1: 1010, 2: 1144, 3: 1196, 4: 957, 5: 1204, 6: 1090, 7: 1013, 8: 1162, 9: 0, 10: 1114, 11: 1241, 12: 1055, 13: 1151, 14: 1196, 15: 1088, 16: 1279, 17: 1294, 18: 1199, 19: 1186, 20: 1161, 21: 1082, 22: 1225, 23: 1164, 24: 1118, 25: 0, 26: 0, 27: 0, 28: 0, 29: 0, 30: 0}\n",
      "X_train numpy shape: (27455, 784)\n",
      "X_test numpy shape: (7172, 784)\n",
      "y_train numpy shape: (27455,)\n",
      "y_test numpy shape: (7172,)\n",
      "X_train tensor shape: torch.Size([27455, 1, 28, 28])\n",
      "X_test tensor shape: torch.Size([7172, 1, 28, 28])\n",
      "y_train tensor shape: torch.Size([27455])\n",
      "y_test tensor shape: torch.Size([7172])\n"
     ]
    }
   ],
   "source": [
    "import pandas as pd\n",
    "import torch\n",
    "\n",
    "df_train = pd.read_csv('./sign_mnist_train.csv')\n",
    "df_test = pd.read_csv(\"./sign_mnist_test.csv\")\n",
    "\n",
    "X_train, y_train = df_train.iloc[:,1:].values/255.0, df_train.iloc[:,0].values #normalizing takes place here\n",
    "X_test, y_test = df_test.iloc[:,1:].values/255.0, df_test.iloc[:,0].values\n",
    "\n",
    "value_counts = {value: np.count_nonzero(y_train == value) for value in range(-1, 31)}\n",
    "\n",
    "print(value_counts)\n",
    "\n",
    "from sklearn.preprocessing import LabelBinarizer\n",
    "lb = LabelBinarizer() #One hot encoding of the labels\n",
    "# y_train = lb.fit_transform(y_train)\n",
    "# y_test = lb.fit_transform(y_test)\n",
    "\n",
    "print(\"X_train numpy shape: \"+ str(X_train.shape))\n",
    "print(\"X_test numpy shape: \" +str(X_test.shape))\n",
    "print(\"y_train numpy shape: \" +str(y_train.shape))\n",
    "print(\"y_test numpy shape: \" + str(y_test.shape))\n",
    "\n",
    "\n",
    "X_train_tensor, y_train_tensor = torch.tensor(X_train, dtype=torch.float).reshape(-1, 1, 28, 28), torch.tensor(y_train, dtype=torch.long) #Reshaped to 2D images for the CNN\n",
    "X_test_tensor, y_test_tensor = torch.tensor(X_test, dtype=torch.float).reshape(-1,1,28,28), torch.tensor(y_test, dtype=torch.long)\n",
    "\n",
    "print(\"X_train tensor shape: \"+ str(X_train_tensor.shape))\n",
    "print(\"X_test tensor shape: \" +str(X_test_tensor.shape))\n",
    "print(\"y_train tensor shape: \" +str(y_train_tensor.shape))\n",
    "print(\"y_test tensor shape: \" + str(y_test_tensor.shape))\n"
   ]
  },
  {
   "cell_type": "markdown",
   "metadata": {},
   "source": [
    "<h1> Task 2</h1>"
   ]
  },
  {
   "cell_type": "code",
   "execution_count": 3,
   "metadata": {},
   "outputs": [],
   "source": [
    "def evaluate_accuracy(y_true, predicted_probabilities):\n",
    "    predicted_classes = np.argmax(predicted_probabilities, axis=1)\n",
    "    correct_predictions = predicted_classes == y_true\n",
    "    accuracy = np.mean(correct_predictions) \n",
    "    return accuracy"
   ]
  },
  {
   "cell_type": "code",
   "execution_count": 4,
   "metadata": {},
   "outputs": [],
   "source": [
    "class NeuralNetLayer:\n",
    "    def __init__(self):\n",
    "        self.gradient = None\n",
    "        self.parameters = None\n",
    "        \n",
    "    def forward(self, x):\n",
    "        raise NotImplementedError\n",
    "\n",
    "    def backward(self, gradient):\n",
    "        raise NotImplementedError\n",
    "    \n",
    "\n",
    "class LinearLayer(NeuralNetLayer):\n",
    "    def __init__(self, input_size, output_size):\n",
    "        super().__init__()\n",
    "        self.ni = input_size\n",
    "        self.no = output_size\n",
    "        self.w = np.random.randn(output_size, input_size)\n",
    "        self.b = np.random.randn(output_size)\n",
    "        self.cur_input = None\n",
    "        self.parameters = [self.w, self.b]\n",
    "\n",
    "    def forward(self, x):\n",
    "        self.cur_input = x\n",
    "        return (self.w[None, :, :] @ x[:, :, None]).squeeze() + self.b\n",
    "\n",
    "    def backward(self, gradient):\n",
    "        assert self.cur_input is not None, \"Must call forward before backward\"\n",
    "        #dw = gradient.dot(self.cur_input)\n",
    "        dw = gradient[:, :, None] @ self.cur_input[:, None, :]\n",
    "        db = gradient\n",
    "        self.gradient = [dw, db]\n",
    "        return gradient.dot(self.w)\n",
    "    \n",
    "    def get_params(self):\n",
    "        return self.w.copy(), self.b.copy()\n",
    "    \n",
    "    def set_params(self, w :np.ndarray, b:np.ndarray):\n",
    "        self.w = w.copy()\n",
    "        self.b = b.copy()\n",
    "    \n",
    "\n",
    "class ReLULayer(NeuralNetLayer):\n",
    "    def __init__(self):\n",
    "        super().__init__()\n",
    "        \n",
    "    def forward(self, x):\n",
    "        self.gradient = np.where(x > 0, 1.0, 0.0)\n",
    "        return np.maximum(0, x)\n",
    "\n",
    "    def backward(self, gradient):\n",
    "        assert self.gradient is not None, \"Must call forward before backward\"\n",
    "        return gradient * self.gradient\n",
    "    \n",
    "class SoftmaxOutputLayer(NeuralNetLayer):\n",
    "    def __init__(self):\n",
    "        super().__init__()\n",
    "        self.cur_probs = None\n",
    "\n",
    "    def forward(self, x):\n",
    "        # Shift x by subtracting its max value from each vector in the batch\n",
    "        shift_x = x - np.max(x, axis=-1, keepdims=True)\n",
    "        exps = np.exp(shift_x)\n",
    "        probs = exps / np.sum(exps, axis=-1, keepdims=True)\n",
    "        self.cur_probs = probs\n",
    "        return probs\n",
    "\n",
    "    def backward(self, target):\n",
    "        assert self.cur_probs is not None, \"Must call forward before backward\"\n",
    "        return self.cur_probs - target"
   ]
  },
  {
   "cell_type": "code",
   "execution_count": 5,
   "metadata": {},
   "outputs": [],
   "source": [
    "class MLP:\n",
    "    def __init__(self, *args: List[NeuralNetLayer]):\n",
    "        self.layers = args\n",
    "\n",
    "    def forward(self, x):\n",
    "        for layer in self.layers:\n",
    "            x = layer.forward(x)\n",
    "        return x\n",
    "\n",
    "    def backward(self, target):\n",
    "        for layer in self.layers[::-1]:\n",
    "            target = layer.backward(target)\n",
    "\n",
    "    def get_params(self):\n",
    "        # Collect parameters from all layers that have them\n",
    "        params = []\n",
    "        for layer in self.layers:\n",
    "            if hasattr(layer, 'get_params'):\n",
    "                params.extend(layer.get_params())\n",
    "        return params\n",
    "\n",
    "    def apply_params(self, parameters):\n",
    "        # Apply parameters to all layers that have them\n",
    "        param_iter = iter(parameters)\n",
    "        for layer in self.layers:\n",
    "            if hasattr(layer, 'set_params'):\n",
    "                layer.set_params(next(param_iter), next(param_iter))\n",
    "\n",
    "    \n",
    "            "
   ]
  },
  {
   "cell_type": "code",
   "execution_count": 6,
   "metadata": {},
   "outputs": [],
   "source": [
    "class Optimizer:\n",
    "    def __init__(self, net: MLP):\n",
    "        self.net = net\n",
    "\n",
    "    def step(self):\n",
    "        for layer in self.net.layers[::-1]:\n",
    "            if layer.parameters is not None:\n",
    "                self.update(layer.parameters, layer.gradient)\n",
    "\n",
    "    def update(self, params, gradient):\n",
    "        raise NotImplementedError\n",
    "\n",
    "class GradientDescentOptimizer(Optimizer):\n",
    "    def __init__(self, net: MLP, lr: float):\n",
    "        super().__init__(net)\n",
    "        self.lr = lr\n",
    "\n",
    "    def update(self, params, gradient):\n",
    "        for (p, g) in zip(params, gradient):\n",
    "            g_avg = g.mean(axis=0)\n",
    "            p -= self.lr * g_avg\n",
    "\n",
    "\n",
    "class GradientDescentOptimizerWithSchedule(GradientDescentOptimizer):\n",
    "    def __init__(self, net: MLP, lr: float, schedule_step: int, decay_factor: float):\n",
    "        super().__init__(net, lr)\n",
    "        self.schedule_step = schedule_step\n",
    "        self.decay_factor = decay_factor\n",
    "        self.current_step = 0\n",
    "\n",
    "    def step(self):\n",
    "        super().step()\n",
    "        self.current_step += 1\n",
    "        if self.current_step % self.schedule_step == 0:\n",
    "            self.update_lr()\n",
    "\n",
    "    def update_lr(self):\n",
    "        self.lr *= self.decay_factor\n",
    "        print(f\"Updated learning rate to {self.lr}\")\n",
    "\n",
    "\n",
    "\n"
   ]
  },
  {
   "cell_type": "code",
   "execution_count": 7,
   "metadata": {},
   "outputs": [],
   "source": [
    "from scipy.interpolate import interp1d\n",
    "\n",
    "\n",
    "###New training algorithm\n",
    "def train(mlp :MLP, optimizer, data_x, data_y, num_epochs, batch_size=128, patience=5, testing_num_gradient=False, L2_reg=False, lam = 0.01):\n",
    "    \n",
    "    #First split into train/validation split\n",
    "    np.random.seed(13) #So that its deterministic\n",
    "    val_size = int(len(data_x) * 0.2)  # For an 80/20 split\n",
    "    indices = np.arange(len(data_x))\n",
    "    np.random.shuffle(indices)\n",
    "    val_indices = indices[:val_size]\n",
    "    train_indices = indices[val_size:]\n",
    "    # Use the indices to create training and validation sets\n",
    "    x_train, y_train = data_x[train_indices], data_y[train_indices]\n",
    "    x_val, y_val = data_x[val_indices], data_y[val_indices]\n",
    "\n",
    "    losses = []\n",
    "\n",
    "    val_every_ith_epoch = 10\n",
    "    val_losses = [float('inf')]\n",
    "    labels_train = np.eye(25)[y_train] #one hot encoding\n",
    "    labels_val = np.eye(25)[y_val]\n",
    "\n",
    "    best_loss = float('inf')\n",
    "    no_improvement_count = 0\n",
    "    best_params = None\n",
    "\n",
    "    for epoch in tqdm(range(num_epochs)):\n",
    "        #Shuffle training every epoch so we visit in different order\n",
    "        permutation = np.random.permutation(len(x_train))\n",
    "        x_train_shuffled = x_train[permutation]\n",
    "        y_train_shuffled = labels_train[permutation]\n",
    "\n",
    "        #Now we go through every mini batch\n",
    "        batch_loss = []\n",
    "        for i in range(0, len(x_train), batch_size):\n",
    "            batch_x = x_train_shuffled[i:i+batch_size]\n",
    "            batch_y = y_train_shuffled[i:i+batch_size]\n",
    "\n",
    "            predictions = mlp.forward(batch_x)\n",
    "            # reg = 0\n",
    "            # if L2_reg:\n",
    "            #     for layer in mlp.layers:\n",
    "            #         if hasattr(layer, 'parameters'):\n",
    "            #             for param in layer.parameters:\n",
    "            #                 reg += np.sum(param **2)\n",
    "\n",
    "            loss = -(batch_y*np.log(predictions+1e-9)).sum(axis=-1).mean() #+ 0.5*lam*reg #we take mean so loss is independent of batch size?\n",
    "            batch_loss.append(loss)\n",
    "            \n",
    "            mlp.backward(batch_y)\n",
    "            optimizer.step() \n",
    "        losses.append(np.mean(batch_loss))\n",
    "\n",
    "        #Validation check\n",
    "        if epoch % val_every_ith_epoch == 0:\n",
    "            predictions_val = mlp.forward(x_val)\n",
    "            loss_val = -(labels_val * np.log(predictions_val + 1e-9)).sum(axis=-1).mean()\n",
    "            if loss_val< np.min(val_losses):\n",
    "                best_params = mlp.get_params()\n",
    "            val_losses.append(loss_val)\n",
    "\n",
    "        #Early stopping check\n",
    "        if len(losses) > 2*patience:\n",
    "            if not check_improvement(losses, patience, best_loss):\n",
    "                no_improvement_count+=1\n",
    "                if no_improvement_count>2:\n",
    "                    print(f\"Early stopping at epoch {epoch}: no improvement in the last {patience} checks.\")\n",
    "                    break\n",
    "            else:\n",
    "                no_improvement_count = 0\n",
    "    \n",
    "    return best_params, losses, val_losses\n",
    "    \n",
    "    \n",
    "def check_improvement(losses, patience, best_loss):\n",
    "    recent_avg_loss = np.mean(losses[-patience:])\n",
    "    prev_avg_loss = np.mean(losses[-2*patience:-patience])\n",
    "    if recent_avg_loss<best_loss:\n",
    "        best_loss = recent_avg_loss\n",
    "        return True\n",
    "    return recent_avg_loss < prev_avg_loss\n",
    "\n",
    "\n",
    "def plot_losses(losses, val_losses):\n",
    "    if len(val_losses) > 0 and (np.isinf(val_losses[0]) or np.isnan(val_losses[0])):\n",
    "        val_losses = val_losses[1:]  # We eliminate the first value since it's infinite or NaN\n",
    "    \n",
    "    total_epochs = len(losses)\n",
    "    \n",
    "    # Original epochs for validation losses\n",
    "    original_val_epochs = np.linspace(1, total_epochs, len(val_losses), endpoint=True)\n",
    "    \n",
    "    # Interpolation for validation losses to match the total_epochs\n",
    "    interp = interp1d(original_val_epochs, val_losses, kind='linear')\n",
    "    interpolated_val_epochs = np.linspace(1, total_epochs, total_epochs, endpoint=True)\n",
    "    interpolated_val_losses = interp(interpolated_val_epochs)\n",
    "    \n",
    "    plt.plot(range(1, total_epochs + 1), losses, label='Training Loss', linestyle='-', color='blue')\n",
    "    plt.plot(interpolated_val_epochs, interpolated_val_losses, label='Validation Loss', linestyle='--', color='orange')\n",
    "    \n",
    "    plt.xlabel(\"Epoch\")\n",
    "    plt.ylabel(\"Loss\")\n",
    "    plt.yscale(\"log\")  # Using logarithmic scale for better visibility if losses vary widely\n",
    "    plt.legend()\n",
    "    plt.title(\"Training vs Validation Loss\")\n",
    "    plt.show()\n",
    "    "
   ]
  },
  {
   "cell_type": "code",
   "execution_count": 8,
   "metadata": {},
   "outputs": [],
   "source": [
    "def get_accuracy_stats(mlp :MLP, best_params_no_val, best_params_val, X_test, y_test, X_train, y_train):\n",
    "    mlp.apply_params(best_params_no_val)\n",
    "    accuracy_no_val_train = evaluate_accuracy(y_train, mlp.forward(X_train))*100\n",
    "    accuracy_no_val_test = evaluate_accuracy(y_test, mlp.forward(X_test))*100\n",
    "\n",
    "    mlp.apply_params(best_params_val)\n",
    "    accuracy_val_train = evaluate_accuracy(y_train, mlp.forward(X_train))*100\n",
    "    accuracy_val_test = evaluate_accuracy(y_test, mlp.forward(X_test))*100\n",
    "\n",
    "    print(f\"Train accuracy no validation = {accuracy_no_val_train:.2f}%\")\n",
    "    print(f\"Test accuracy no validation = {accuracy_no_val_test:.2f}%\")\n",
    "    print(f\"Train accuracy with validation = {accuracy_val_train:.2f}%\")\n",
    "    print(f\"Test accuracy with validation = {accuracy_val_test:.2f}%\")\n",
    "    return accuracy_no_val_train,accuracy_no_val_test,accuracy_val_train, accuracy_val_test\n"
   ]
  },
  {
   "cell_type": "code",
   "execution_count": 9,
   "metadata": {},
   "outputs": [],
   "source": [
    "import random\n",
    "import copy\n",
    "def perturbation_analysis(model:MLP, x, target, epsilon=1e-4):\n",
    "    # 1. Compute the gradient using backpropagation\n",
    "    y = np.eye(len(set(target))+1)[target]\n",
    "    param_layer = []\n",
    "    for layer in model.layers:\n",
    "        if isinstance(layer, LinearLayer):\n",
    "            param_layer.append(layer.get_params())\n",
    "    \n",
    "    \n",
    "    pert = random.uniform(0,1e-4)\n",
    "    for i, (w, b) in enumerate(copy.deepcopy(param_layer)):\n",
    "        w_temp = copy.deepcopy(w)\n",
    "        w[1,1] += pert\n",
    "        #b[1] += pert\n",
    "        param_layer.insert(i+len(param_layer), (w, b))\n",
    "        w = w_temp\n",
    "        w[1,1] -= pert\n",
    "        param_layer.insert(i+len(param_layer), (w, b))\n",
    "\n",
    "    f_x = model.forward(x)\n",
    "\n",
    "    for i, layer in enumerate(model.layers):\n",
    "        if isinstance(layer, LinearLayer):\n",
    "            w, b = param_layer[i+1]\n",
    "            layer.set_params(w, b)\n",
    "            #a, b = layer.get_params()\n",
    "            #print(a, b)\n",
    "    \n",
    "    f_xh = model.forward(x)\n",
    "\n",
    "    for i, layer in enumerate(model.layers):\n",
    "        if isinstance(layer, LinearLayer):\n",
    "            w, b = param_layer[i+2]\n",
    "            layer.set_params(w, b)\n",
    "    \n",
    "    f_x_h = model.foward(x)\n",
    "    \n",
    "\n",
    "    for i, layer in enumerate(model.layers):\n",
    "        if isinstance(layer, LinearLayer):\n",
    "            w, b = param_layer[i]\n",
    "            layer.set_params(w,b)\n",
    "    model.backward(y) \n",
    "    \n",
    "    \n",
    "    df_x = model.layers[0].gradient[0] ### THIS IS THE W\n",
    "    \n",
    "    numerical_gradient = (f_xh[:,1]-f_x[:,1])/pert\n",
    "    return numerical_gradient, df_x\n",
    "    if np.all(np.abs(numerical_gradient-df_x[:,1,1]) < epsilon): #both are Ns x 1\n",
    "        print('Small Perturbation Analysis Successful')\n",
    "        return\n",
    "    else:\n",
    "        print('Small Perturbaton Analysis NOT Successful')\n",
    "        return\n",
    "    \n",
    "\n",
    "    # # 2. Perturb the gradient slightly\n",
    "    # perturbed_gradients = []\n",
    "    # for i in range(len(original_gradient)):\n",
    "    #     perturbed_gradient_plus = original_gradient[i].copy()\n",
    "    #     perturbed_gradient_plus += epsilon\n",
    "        \n",
    "    #     perturbed_gradient_minus = original_gradient[i].copy()\n",
    "    #     perturbed_gradient_minus -= epsilon\n",
    "        \n",
    "    #     perturbed_gradients.append((perturbed_gradient_plus, perturbed_gradient_minus))\n",
    "\n",
    "    # perturbed_gradients = [(x, y) for x, y in zip(*perturbed_gradients)]\n",
    "    # # 3. Compute loss for both the original and perturbed gradients\n",
    "    # perturbed_losses = []\n",
    "\n",
    "    # for perturbed_grad_0, perturbed_grad_1 in perturbed_gradients:\n",
    "    #     perturbed_grad = [perturbed_grad_0, perturbed_grad_1]\n",
    "    #     model.layers[0].gradient = perturbed_grad\n",
    "    #     loss_plus = compute_loss(model, x, y)\n",
    "\n",
    "    #     perturbed_losses.append(loss_plus)\n",
    "    \n",
    "    # perturbed_losses = [(perturbed_losses[i], perturbed_losses[i+1]) for i in range(0, len(perturbed_losses)-1, 2)]\n",
    "    # # 4. Compare gradients\n",
    "    # for i, (loss_plus, loss_minus) in enumerate(perturbed_losses):\n",
    "    #     numerical_gradient = np.divide((loss_plus - loss_minus), (2 * epsilon))\n",
    "    #     print(numerical_gradient)\n",
    "    #     difference = np.square(original_gradient[i+1] - numerical_gradient).sum()/np.square(original_gradient[i+1] + numerical_gradient).sum()\n",
    "    #     print(f\"Gradient {i+1}: Quotient = {difference}\")"
   ]
  },
  {
   "cell_type": "markdown",
   "metadata": {},
   "source": [
    "<h1>TODO: Write method that checks validity of MLP model gradient (bottom of task 2)</h1>"
   ]
  },
  {
   "cell_type": "markdown",
   "metadata": {},
   "source": [
    "<h1>Task 3.1</h1>"
   ]
  },
  {
   "cell_type": "markdown",
   "metadata": {},
   "source": [
    "<h3>Testing Gradient Numerically</h3>"
   ]
  },
  {
   "cell_type": "code",
   "execution_count": 350,
   "metadata": {},
   "outputs": [],
   "source": [
    "import numpy as np\n",
    "mlp = MLP(\n",
    "    LinearLayer(784, 25), \n",
    "    SoftmaxOutputLayer()\n",
    "    )\n",
    "optimizer = GradientDescentOptimizer(mlp, lr=0.01)\n",
    "# X = np.zeros((100, 784))\n",
    "# X[0,:] = np.random.rand()\n",
    "# Y = np.zeros((100,1), dtype=np.int64)\n",
    "# Y[0,:] = np.random.randint(26)\n",
    "# print(X)\n",
    "# print(Y)\n",
    "#best_val_params, train_losses, val_losses = train(mlp, optimizer, X_train, y_train, 1)\n",
    "\n",
    "a = perturbation_analysis(mlp, X_train, y_train)"
   ]
  },
  {
   "cell_type": "code",
   "execution_count": 356,
   "metadata": {},
   "outputs": [
    {
     "name": "stdout",
     "output_type": "stream",
     "text": [
      "(array([[ 1.19321772,  0.29778869, -0.24977249, ..., -1.18588349,\n",
      "        -0.46482007,  0.99143946],\n",
      "       [ 0.62854146, -1.11296335, -0.40829859, ..., -2.09526706,\n",
      "        -1.01985964, -0.06217678],\n",
      "       [-0.13583119,  0.79880812,  0.89185897, ..., -1.22412368,\n",
      "        -0.26138126, -0.87984978],\n",
      "       ...,\n",
      "       [-0.6246782 ,  0.83260076,  1.07644874, ...,  0.51501725,\n",
      "        -1.48580808,  1.39186276],\n",
      "       [-1.179732  ,  1.67157237,  0.11018698, ..., -0.08365622,\n",
      "        -1.63298917,  0.08478555],\n",
      "       [ 0.75448958, -1.57845306, -0.07600364, ..., -0.91044661,\n",
      "        -0.31617131, -0.90319355]]), array([ 2.36003931,  0.72328314,  0.21796372, -0.00498955, -1.47159077,\n",
      "       -1.67694729,  0.54027988, -0.36353672, -0.36247537,  0.04695238,\n",
      "       -0.12573152,  0.60976121, -1.00606872, -1.67514454,  0.5466641 ,\n",
      "        0.15031565, -1.07496777,  0.27084806,  0.02581155, -2.09575508,\n",
      "       -0.09143824,  1.02442858,  0.44144989,  0.86496938,  1.74854353]))\n",
      "(array([[ 1.19321772,  0.29778869, -0.24977249, ..., -1.18588349,\n",
      "        -0.46482007,  0.99143946],\n",
      "       [ 0.62854146, -1.11295757, -0.40829859, ..., -2.09526706,\n",
      "        -1.01985964, -0.06217678],\n",
      "       [-0.13583119,  0.79880812,  0.89185897, ..., -1.22412368,\n",
      "        -0.26138126, -0.87984978],\n",
      "       ...,\n",
      "       [-0.6246782 ,  0.83260076,  1.07644874, ...,  0.51501725,\n",
      "        -1.48580808,  1.39186276],\n",
      "       [-1.179732  ,  1.67157237,  0.11018698, ..., -0.08365622,\n",
      "        -1.63298917,  0.08478555],\n",
      "       [ 0.75448958, -1.57845306, -0.07600364, ..., -0.91044661,\n",
      "        -0.31617131, -0.90319355]]), array([ 2.36003931,  0.72328314,  0.21796372, -0.00498955, -1.47159077,\n",
      "       -1.67694729,  0.54027988, -0.36353672, -0.36247537,  0.04695238,\n",
      "       -0.12573152,  0.60976121, -1.00606872, -1.67514454,  0.5466641 ,\n",
      "        0.15031565, -1.07496777,  0.27084806,  0.02581155, -2.09575508,\n",
      "       -0.09143824,  1.02442858,  0.44144989,  0.86496938,  1.74854353]))\n",
      "(array([[ 1.19321772,  0.29778869, -0.24977249, ..., -1.18588349,\n",
      "        -0.46482007,  0.99143946],\n",
      "       [ 0.62854146, -1.11296913, -0.40829859, ..., -2.09526706,\n",
      "        -1.01985964, -0.06217678],\n",
      "       [-0.13583119,  0.79880812,  0.89185897, ..., -1.22412368,\n",
      "        -0.26138126, -0.87984978],\n",
      "       ...,\n",
      "       [-0.6246782 ,  0.83260076,  1.07644874, ...,  0.51501725,\n",
      "        -1.48580808,  1.39186276],\n",
      "       [-1.179732  ,  1.67157237,  0.11018698, ..., -0.08365622,\n",
      "        -1.63298917,  0.08478555],\n",
      "       [ 0.75448958, -1.57845306, -0.07600364, ..., -0.91044661,\n",
      "        -0.31617131, -0.90319355]]), array([ 2.36003931,  0.72328314,  0.21796372, -0.00498955, -1.47159077,\n",
      "       -1.67694729,  0.54027988, -0.36353672, -0.36247537,  0.04695238,\n",
      "       -0.12573152,  0.60976121, -1.00606872, -1.67514454,  0.5466641 ,\n",
      "        0.15031565, -1.07496777,  0.27084806,  0.02581155, -2.09575508,\n",
      "       -0.09143824,  1.02442858,  0.44144989,  0.86496938,  1.74854353]))\n",
      "[(array([[ 1.19321772,  0.29778869, -0.24977249, ..., -1.18588349,\n",
      "        -0.46482007,  0.99143946],\n",
      "       [ 0.62854146, -1.11296335, -0.40829859, ..., -2.09526706,\n",
      "        -1.01985964, -0.06217678],\n",
      "       [-0.13583119,  0.79880812,  0.89185897, ..., -1.22412368,\n",
      "        -0.26138126, -0.87984978],\n",
      "       ...,\n",
      "       [-0.6246782 ,  0.83260076,  1.07644874, ...,  0.51501725,\n",
      "        -1.48580808,  1.39186276],\n",
      "       [-1.179732  ,  1.67157237,  0.11018698, ..., -0.08365622,\n",
      "        -1.63298917,  0.08478555],\n",
      "       [ 0.75448958, -1.57845306, -0.07600364, ..., -0.91044661,\n",
      "        -0.31617131, -0.90319355]]), array([ 2.36003931,  0.72328314,  0.21796372, -0.00498955, -1.47159077,\n",
      "       -1.67694729,  0.54027988, -0.36353672, -0.36247537,  0.04695238,\n",
      "       -0.12573152,  0.60976121, -1.00606872, -1.67514454,  0.5466641 ,\n",
      "        0.15031565, -1.07496777,  0.27084806,  0.02581155, -2.09575508,\n",
      "       -0.09143824,  1.02442858,  0.44144989,  0.86496938,  1.74854353])), (array([[ 1.19321772,  0.29778869, -0.24977249, ..., -1.18588349,\n",
      "        -0.46482007,  0.99143946],\n",
      "       [ 0.62854146, -1.11295757, -0.40829859, ..., -2.09526706,\n",
      "        -1.01985964, -0.06217678],\n",
      "       [-0.13583119,  0.79880812,  0.89185897, ..., -1.22412368,\n",
      "        -0.26138126, -0.87984978],\n",
      "       ...,\n",
      "       [-0.6246782 ,  0.83260076,  1.07644874, ...,  0.51501725,\n",
      "        -1.48580808,  1.39186276],\n",
      "       [-1.179732  ,  1.67157237,  0.11018698, ..., -0.08365622,\n",
      "        -1.63298917,  0.08478555],\n",
      "       [ 0.75448958, -1.57845306, -0.07600364, ..., -0.91044661,\n",
      "        -0.31617131, -0.90319355]]), array([ 2.36003931,  0.72328314,  0.21796372, -0.00498955, -1.47159077,\n",
      "       -1.67694729,  0.54027988, -0.36353672, -0.36247537,  0.04695238,\n",
      "       -0.12573152,  0.60976121, -1.00606872, -1.67514454,  0.5466641 ,\n",
      "        0.15031565, -1.07496777,  0.27084806,  0.02581155, -2.09575508,\n",
      "       -0.09143824,  1.02442858,  0.44144989,  0.86496938,  1.74854353])), (array([[ 1.19321772,  0.29778869, -0.24977249, ..., -1.18588349,\n",
      "        -0.46482007,  0.99143946],\n",
      "       [ 0.62854146, -1.11296913, -0.40829859, ..., -2.09526706,\n",
      "        -1.01985964, -0.06217678],\n",
      "       [-0.13583119,  0.79880812,  0.89185897, ..., -1.22412368,\n",
      "        -0.26138126, -0.87984978],\n",
      "       ...,\n",
      "       [-0.6246782 ,  0.83260076,  1.07644874, ...,  0.51501725,\n",
      "        -1.48580808,  1.39186276],\n",
      "       [-1.179732  ,  1.67157237,  0.11018698, ..., -0.08365622,\n",
      "        -1.63298917,  0.08478555],\n",
      "       [ 0.75448958, -1.57845306, -0.07600364, ..., -0.91044661,\n",
      "        -0.31617131, -0.90319355]]), array([ 2.36003931,  0.72328314,  0.21796372, -0.00498955, -1.47159077,\n",
      "       -1.67694729,  0.54027988, -0.36353672, -0.36247537,  0.04695238,\n",
      "       -0.12573152,  0.60976121, -1.00606872, -1.67514454,  0.5466641 ,\n",
      "        0.15031565, -1.07496777,  0.27084806,  0.02581155, -2.09575508,\n",
      "       -0.09143824,  1.02442858,  0.44144989,  0.86496938,  1.74854353]))]\n",
      "[1.84036854e-24 2.58330256e-25 6.48235038e-27 ... 1.05924728e-27\n",
      " 3.07634858e-28 1.25639227e-32]\n"
     ]
    }
   ],
   "source": [
    "print(a[0])\n",
    "print(a[1])\n",
    "print(a[2])\n",
    "\n",
    "#print(a[:,1])\n",
    "#print(b[:,1,1])\n",
    "\n",
    "# print(a.shape)\n",
    "# print(b[:,1,1].shape)\n",
    "# d = np.subtract(a, b[:,1,1]) < 0.1\n",
    "# print(np.where(d == False))\n",
    "\n",
    "print(a)\n",
    "print(b[:,1,1])\n",
    "\n",
    "#print(np.all(np.abs(np.subtract(a, b[:,1,1])) < 0.1))\n"
   ]
  },
  {
   "cell_type": "code",
   "execution_count": 111,
   "metadata": {},
   "outputs": [
    {
     "name": "stdout",
     "output_type": "stream",
     "text": [
      "(25, 784)\n"
     ]
    },
    {
     "data": {
      "text/plain": [
       "(27455, 25, 784)"
      ]
     },
     "execution_count": 111,
     "metadata": {},
     "output_type": "execute_result"
    }
   ],
   "source": [
    "#print(f.shape)\n",
    "a, b = mlp.layers[0].get_params()\n",
    "print(a.shape)\n",
    "mlp.layers[0].gradient[0].shape"
   ]
  },
  {
   "cell_type": "markdown",
   "metadata": {},
   "source": [
    "<h3> No hidden layer </h3>"
   ]
  },
  {
   "cell_type": "code",
   "execution_count": 10,
   "metadata": {},
   "outputs": [
    {
     "name": "stderr",
     "output_type": "stream",
     "text": [
      "100%|██████████| 400/400 [27:10<00:00,  4.08s/it]\n"
     ]
    }
   ],
   "source": [
    "mlp_no_hidden_layer = MLP(\n",
    "    LinearLayer(784, 25),\n",
    "    SoftmaxOutputLayer()\n",
    ")\n",
    "optimizer = GradientDescentOptimizer(mlp_no_hidden_layer, 1e-2)\n",
    "gradient_steps = 400\n",
    "best_val_params, train_losses, val_losses = train(mlp_no_hidden_layer, optimizer, X_train, y_train, gradient_steps)\n",
    "best_no_val_params = mlp_no_hidden_layer.get_params()"
   ]
  },
  {
   "cell_type": "code",
   "execution_count": 11,
   "metadata": {},
   "outputs": [
    {
     "name": "stdout",
     "output_type": "stream",
     "text": [
      "NO HIDDEN LAYER\n"
     ]
    },
    {
     "data": {
      "image/png": "[encoded data removed]",
      "text/plain": [
       "<Figure size 640x480 with 1 Axes>"
      ]
     },
     "metadata": {},
     "output_type": "display_data"
    },
    {
     "name": "stdout",
     "output_type": "stream",
     "text": [
      "Train accuracy no validation = 84.75%\n",
      "Test accuracy no validation = 53.64%\n",
      "Train accuracy with validation = 84.19%\n",
      "Test accuracy with validation = 53.40%\n",
      "\n",
      "\n",
      "\n",
      "\n",
      "\n"
     ]
    }
   ],
   "source": [
    "print(\"NO HIDDEN LAYER\")\n",
    "plot_losses(train_losses, val_losses)\n",
    "no_hidden_layer_stats = get_accuracy_stats(mlp_no_hidden_layer, best_no_val_params, best_val_params, X_test, y_test, X_train, y_train)\n",
    "print(\"\\n\\n\\n\\n\")"
   ]
  },
  {
   "cell_type": "markdown",
   "metadata": {},
   "source": [
    "<h3> One Hidden Layer </h3>"
   ]
  },
  {
   "cell_type": "code",
   "execution_count": 10,
   "metadata": {},
   "outputs": [
    {
     "name": "stdout",
     "output_type": "stream",
     "text": [
      "Fitting 5 folds for each of 16 candidates, totalling 80 fits\n",
      "[CV] END .hidden_layer_sizes=(32,), learning_rate_init=0.001; total time= 1.5min\n",
      "[CV] END .hidden_layer_sizes=(32,), learning_rate_init=0.001; total time= 1.4min\n",
      "[CV] END .hidden_layer_sizes=(32,), learning_rate_init=0.001; total time= 1.5min\n",
      "[CV] END .hidden_layer_sizes=(32,), learning_rate_init=0.001; total time= 2.1min\n",
      "[CV] END .hidden_layer_sizes=(32,), learning_rate_init=0.001; total time= 2.3min\n",
      "[CV] END ..hidden_layer_sizes=(32,), learning_rate_init=0.01; total time= 2.0min\n",
      "[CV] END ..hidden_layer_sizes=(32,), learning_rate_init=0.01; total time= 1.9min\n",
      "[CV] END ..hidden_layer_sizes=(32,), learning_rate_init=0.01; total time= 2.3min\n",
      "[CV] END ..hidden_layer_sizes=(32,), learning_rate_init=0.01; total time= 2.3min\n",
      "[CV] END ..hidden_layer_sizes=(32,), learning_rate_init=0.01; total time= 2.0min\n",
      "[CV] END ...hidden_layer_sizes=(32,), learning_rate_init=0.1; total time=  18.9s\n",
      "[CV] END ...hidden_layer_sizes=(32,), learning_rate_init=0.1; total time=  27.0s\n",
      "[CV] END ...hidden_layer_sizes=(32,), learning_rate_init=0.1; total time=  14.9s\n",
      "[CV] END ...hidden_layer_sizes=(32,), learning_rate_init=0.1; total time=  24.6s\n",
      "[CV] END ...hidden_layer_sizes=(32,), learning_rate_init=0.1; total time= 1.0min\n",
      "[CV] END .....hidden_layer_sizes=(32,), learning_rate_init=1; total time=   4.3s\n",
      "[CV] END .....hidden_layer_sizes=(32,), learning_rate_init=1; total time=   3.7s\n",
      "[CV] END .....hidden_layer_sizes=(32,), learning_rate_init=1; total time=   4.4s\n",
      "[CV] END .....hidden_layer_sizes=(32,), learning_rate_init=1; total time=   5.8s\n",
      "[CV] END .....hidden_layer_sizes=(32,), learning_rate_init=1; total time=   4.4s\n",
      "[CV] END .hidden_layer_sizes=(64,), learning_rate_init=0.001; total time= 3.1min\n",
      "[CV] END .hidden_layer_sizes=(64,), learning_rate_init=0.001; total time= 2.8min\n",
      "[CV] END .hidden_layer_sizes=(64,), learning_rate_init=0.001; total time= 2.9min\n",
      "[CV] END .hidden_layer_sizes=(64,), learning_rate_init=0.001; total time= 2.6min\n",
      "[CV] END .hidden_layer_sizes=(64,), learning_rate_init=0.001; total time= 2.7min\n",
      "[CV] END ..hidden_layer_sizes=(64,), learning_rate_init=0.01; total time= 3.0min\n",
      "[CV] END ..hidden_layer_sizes=(64,), learning_rate_init=0.01; total time= 2.6min\n",
      "[CV] END ..hidden_layer_sizes=(64,), learning_rate_init=0.01; total time= 2.6min\n",
      "[CV] END ..hidden_layer_sizes=(64,), learning_rate_init=0.01; total time= 2.9min\n",
      "[CV] END ..hidden_layer_sizes=(64,), learning_rate_init=0.01; total time= 2.4min\n",
      "[CV] END ...hidden_layer_sizes=(64,), learning_rate_init=0.1; total time=  18.3s\n",
      "[CV] END ...hidden_layer_sizes=(64,), learning_rate_init=0.1; total time=  22.4s\n",
      "[CV] END ...hidden_layer_sizes=(64,), learning_rate_init=0.1; total time=  12.7s\n",
      "[CV] END ...hidden_layer_sizes=(64,), learning_rate_init=0.1; total time=  19.8s\n",
      "[CV] END ...hidden_layer_sizes=(64,), learning_rate_init=0.1; total time=  28.7s\n",
      "[CV] END .....hidden_layer_sizes=(64,), learning_rate_init=1; total time=   5.3s\n",
      "[CV] END .....hidden_layer_sizes=(64,), learning_rate_init=1; total time=   5.0s\n",
      "[CV] END .....hidden_layer_sizes=(64,), learning_rate_init=1; total time=   5.7s\n",
      "[CV] END .....hidden_layer_sizes=(64,), learning_rate_init=1; total time=   7.7s\n",
      "[CV] END .....hidden_layer_sizes=(64,), learning_rate_init=1; total time=   5.9s\n",
      "[CV] END hidden_layer_sizes=(128,), learning_rate_init=0.001; total time= 4.6min\n",
      "[CV] END hidden_layer_sizes=(128,), learning_rate_init=0.001; total time= 4.5min\n",
      "[CV] END hidden_layer_sizes=(128,), learning_rate_init=0.001; total time= 4.4min\n",
      "[CV] END hidden_layer_sizes=(128,), learning_rate_init=0.001; total time= 4.0min\n",
      "[CV] END hidden_layer_sizes=(128,), learning_rate_init=0.001; total time= 4.7min\n",
      "[CV] END .hidden_layer_sizes=(128,), learning_rate_init=0.01; total time= 4.5min\n",
      "[CV] END .hidden_layer_sizes=(128,), learning_rate_init=0.01; total time= 5.1min\n",
      "[CV] END .hidden_layer_sizes=(128,), learning_rate_init=0.01; total time= 4.6min\n",
      "[CV] END .hidden_layer_sizes=(128,), learning_rate_init=0.01; total time= 4.9min\n",
      "[CV] END .hidden_layer_sizes=(128,), learning_rate_init=0.01; total time= 4.4min\n",
      "[CV] END ..hidden_layer_sizes=(128,), learning_rate_init=0.1; total time=  29.4s\n",
      "[CV] END ..hidden_layer_sizes=(128,), learning_rate_init=0.1; total time=  32.9s\n",
      "[CV] END ..hidden_layer_sizes=(128,), learning_rate_init=0.1; total time= 1.5min\n",
      "[CV] END ..hidden_layer_sizes=(128,), learning_rate_init=0.1; total time= 1.2min\n",
      "[CV] END ..hidden_layer_sizes=(128,), learning_rate_init=0.1; total time=  25.0s\n",
      "[CV] END ....hidden_layer_sizes=(128,), learning_rate_init=1; total time=  11.4s\n",
      "[CV] END ....hidden_layer_sizes=(128,), learning_rate_init=1; total time=  17.3s\n",
      "[CV] END ....hidden_layer_sizes=(128,), learning_rate_init=1; total time=   8.0s\n",
      "[CV] END ....hidden_layer_sizes=(128,), learning_rate_init=1; total time=  11.7s\n",
      "[CV] END ....hidden_layer_sizes=(128,), learning_rate_init=1; total time=  10.5s\n",
      "[CV] END hidden_layer_sizes=(256,), learning_rate_init=0.001; total time=12.1min\n",
      "[CV] END hidden_layer_sizes=(256,), learning_rate_init=0.001; total time=12.6min\n",
      "[CV] END hidden_layer_sizes=(256,), learning_rate_init=0.001; total time=10.7min\n",
      "[CV] END hidden_layer_sizes=(256,), learning_rate_init=0.001; total time=11.4min\n",
      "[CV] END hidden_layer_sizes=(256,), learning_rate_init=0.001; total time=12.0min\n",
      "[CV] END .hidden_layer_sizes=(256,), learning_rate_init=0.01; total time=12.1min\n",
      "[CV] END .hidden_layer_sizes=(256,), learning_rate_init=0.01; total time=12.3min\n",
      "[CV] END .hidden_layer_sizes=(256,), learning_rate_init=0.01; total time=10.5min\n",
      "[CV] END .hidden_layer_sizes=(256,), learning_rate_init=0.01; total time=10.3min\n",
      "[CV] END .hidden_layer_sizes=(256,), learning_rate_init=0.01; total time=10.1min\n",
      "[CV] END ..hidden_layer_sizes=(256,), learning_rate_init=0.1; total time= 2.7min\n",
      "[CV] END ..hidden_layer_sizes=(256,), learning_rate_init=0.1; total time= 3.0min\n",
      "[CV] END ..hidden_layer_sizes=(256,), learning_rate_init=0.1; total time= 2.7min\n",
      "[CV] END ..hidden_layer_sizes=(256,), learning_rate_init=0.1; total time=  59.0s\n",
      "[CV] END ..hidden_layer_sizes=(256,), learning_rate_init=0.1; total time=  57.7s\n",
      "[CV] END ....hidden_layer_sizes=(256,), learning_rate_init=1; total time=  21.4s\n",
      "[CV] END ....hidden_layer_sizes=(256,), learning_rate_init=1; total time=  22.9s\n",
      "[CV] END ....hidden_layer_sizes=(256,), learning_rate_init=1; total time=  21.9s\n",
      "[CV] END ....hidden_layer_sizes=(256,), learning_rate_init=1; total time=  20.3s\n",
      "[CV] END ....hidden_layer_sizes=(256,), learning_rate_init=1; total time=  26.9s\n"
     ]
    },
    {
     "data": {
      "text/html": [
       "<style>#sk-container-id-1 {\n",
       "  /* Definition of color scheme common for light and dark mode */\n",
       "  --sklearn-color-text: black;\n",
       "  --sklearn-color-line: gray;\n",
       "  /* Definition of color scheme for unfitted estimators */\n",
       "  --sklearn-color-unfitted-level-0: #fff5e6;\n",
       "  --sklearn-color-unfitted-level-1: #f6e4d2;\n",
       "  --sklearn-color-unfitted-level-2: #ffe0b3;\n",
       "  --sklearn-color-unfitted-level-3: chocolate;\n",
       "  /* Definition of color scheme for fitted estimators */\n",
       "  --sklearn-color-fitted-level-0: #f0f8ff;\n",
       "  --sklearn-color-fitted-level-1: #d4ebff;\n",
       "  --sklearn-color-fitted-level-2: #b3dbfd;\n",
       "  --sklearn-color-fitted-level-3: cornflowerblue;\n",
       "\n",
       "  /* Specific color for light theme */\n",
       "  --sklearn-color-text-on-default-background: var(--sg-text-color, var(--theme-code-foreground, var(--jp-content-font-color1, black)));\n",
       "  --sklearn-color-background: var(--sg-background-color, var(--theme-background, var(--jp-layout-color0, white)));\n",
       "  --sklearn-color-border-box: var(--sg-text-color, var(--theme-code-foreground, var(--jp-content-font-color1, black)));\n",
       "  --sklearn-color-icon: #696969;\n",
       "\n",
       "  @media (prefers-color-scheme: dark) {\n",
       "    /* Redefinition of color scheme for dark theme */\n",
       "    --sklearn-color-text-on-default-background: var(--sg-text-color, var(--theme-code-foreground, var(--jp-content-font-color1, white)));\n",
       "    --sklearn-color-background: var(--sg-background-color, var(--theme-background, var(--jp-layout-color0, #111)));\n",
       "    --sklearn-color-border-box: var(--sg-text-color, var(--theme-code-foreground, var(--jp-content-font-color1, white)));\n",
       "    --sklearn-color-icon: #878787;\n",
       "  }\n",
       "}\n",
       "\n",
       "#sk-container-id-1 {\n",
       "  color: var(--sklearn-color-text);\n",
       "}\n",
       "\n",
       "#sk-container-id-1 pre {\n",
       "  padding: 0;\n",
       "}\n",
       "\n",
       "#sk-container-id-1 input.sk-hidden--visually {\n",
       "  border: 0;\n",
       "  clip: rect(1px 1px 1px 1px);\n",
       "  clip: rect(1px, 1px, 1px, 1px);\n",
       "  height: 1px;\n",
       "  margin: -1px;\n",
       "  overflow: hidden;\n",
       "  padding: 0;\n",
       "  position: absolute;\n",
       "  width: 1px;\n",
       "}\n",
       "\n",
       "#sk-container-id-1 div.sk-dashed-wrapped {\n",
       "  border: 1px dashed var(--sklearn-color-line);\n",
       "  margin: 0 0.4em 0.5em 0.4em;\n",
       "  box-sizing: border-box;\n",
       "  padding-bottom: 0.4em;\n",
       "  background-color: var(--sklearn-color-background);\n",
       "}\n",
       "\n",
       "#sk-container-id-1 div.sk-container {\n",
       "  /* jupyter's `normalize.less` sets `[hidden] { display: none; }`\n",
       "     but bootstrap.min.css set `[hidden] { display: none !important; }`\n",
       "     so we also need the `!important` here to be able to override the\n",
       "     default hidden behavior on the sphinx rendered scikit-learn.org.\n",
       "     See: https://github.com/scikit-learn/scikit-learn/issues/21755 */\n",
       "  display: inline-block !important;\n",
       "  position: relative;\n",
       "}\n",
       "\n",
       "#sk-container-id-1 div.sk-text-repr-fallback {\n",
       "  display: none;\n",
       "}\n",
       "\n",
       "div.sk-parallel-item,\n",
       "div.sk-serial,\n",
       "div.sk-item {\n",
       "  /* draw centered vertical line to link estimators */\n",
       "  background-image: linear-gradient(var(--sklearn-color-text-on-default-background), var(--sklearn-color-text-on-default-background));\n",
       "  background-size: 2px 100%;\n",
       "  background-repeat: no-repeat;\n",
       "  background-position: center center;\n",
       "}\n",
       "\n",
       "/* Parallel-specific style estimator block */\n",
       "\n",
       "#sk-container-id-1 div.sk-parallel-item::after {\n",
       "  content: \"\";\n",
       "  width: 100%;\n",
       "  border-bottom: 2px solid var(--sklearn-color-text-on-default-background);\n",
       "  flex-grow: 1;\n",
       "}\n",
       "\n",
       "#sk-container-id-1 div.sk-parallel {\n",
       "  display: flex;\n",
       "  align-items: stretch;\n",
       "  justify-content: center;\n",
       "  background-color: var(--sklearn-color-background);\n",
       "  position: relative;\n",
       "}\n",
       "\n",
       "#sk-container-id-1 div.sk-parallel-item {\n",
       "  display: flex;\n",
       "  flex-direction: column;\n",
       "}\n",
       "\n",
       "#sk-container-id-1 div.sk-parallel-item:first-child::after {\n",
       "  align-self: flex-end;\n",
       "  width: 50%;\n",
       "}\n",
       "\n",
       "#sk-container-id-1 div.sk-parallel-item:last-child::after {\n",
       "  align-self: flex-start;\n",
       "  width: 50%;\n",
       "}\n",
       "\n",
       "#sk-container-id-1 div.sk-parallel-item:only-child::after {\n",
       "  width: 0;\n",
       "}\n",
       "\n",
       "/* Serial-specific style estimator block */\n",
       "\n",
       "#sk-container-id-1 div.sk-serial {\n",
       "  display: flex;\n",
       "  flex-direction: column;\n",
       "  align-items: center;\n",
       "  background-color: var(--sklearn-color-background);\n",
       "  padding-right: 1em;\n",
       "  padding-left: 1em;\n",
       "}\n",
       "\n",
       "\n",
       "/* Toggleable style: style used for estimator/Pipeline/ColumnTransformer box that is\n",
       "clickable and can be expanded/collapsed.\n",
       "- Pipeline and ColumnTransformer use this feature and define the default style\n",
       "- Estimators will overwrite some part of the style using the `sk-estimator` class\n",
       "*/\n",
       "\n",
       "/* Pipeline and ColumnTransformer style (default) */\n",
       "\n",
       "#sk-container-id-1 div.sk-toggleable {\n",
       "  /* Default theme specific background. It is overwritten whether we have a\n",
       "  specific estimator or a Pipeline/ColumnTransformer */\n",
       "  background-color: var(--sklearn-color-background);\n",
       "}\n",
       "\n",
       "/* Toggleable label */\n",
       "#sk-container-id-1 label.sk-toggleable__label {\n",
       "  cursor: pointer;\n",
       "  display: block;\n",
       "  width: 100%;\n",
       "  margin-bottom: 0;\n",
       "  padding: 0.5em;\n",
       "  box-sizing: border-box;\n",
       "  text-align: center;\n",
       "}\n",
       "\n",
       "#sk-container-id-1 label.sk-toggleable__label-arrow:before {\n",
       "  /* Arrow on the left of the label */\n",
       "  content: \"▸\";\n",
       "  float: left;\n",
       "  margin-right: 0.25em;\n",
       "  color: var(--sklearn-color-icon);\n",
       "}\n",
       "\n",
       "#sk-container-id-1 label.sk-toggleable__label-arrow:hover:before {\n",
       "  color: var(--sklearn-color-text);\n",
       "}\n",
       "\n",
       "/* Toggleable content - dropdown */\n",
       "\n",
       "#sk-container-id-1 div.sk-toggleable__content {\n",
       "  max-height: 0;\n",
       "  max-width: 0;\n",
       "  overflow: hidden;\n",
       "  text-align: left;\n",
       "  /* unfitted */\n",
       "  background-color: var(--sklearn-color-unfitted-level-0);\n",
       "}\n",
       "\n",
       "#sk-container-id-1 div.sk-toggleable__content.fitted {\n",
       "  /* fitted */\n",
       "  background-color: var(--sklearn-color-fitted-level-0);\n",
       "}\n",
       "\n",
       "#sk-container-id-1 div.sk-toggleable__content pre {\n",
       "  margin: 0.2em;\n",
       "  border-radius: 0.25em;\n",
       "  color: var(--sklearn-color-text);\n",
       "  /* unfitted */\n",
       "  background-color: var(--sklearn-color-unfitted-level-0);\n",
       "}\n",
       "\n",
       "#sk-container-id-1 div.sk-toggleable__content.fitted pre {\n",
       "  /* unfitted */\n",
       "  background-color: var(--sklearn-color-fitted-level-0);\n",
       "}\n",
       "\n",
       "#sk-container-id-1 input.sk-toggleable__control:checked~div.sk-toggleable__content {\n",
       "  /* Expand drop-down */\n",
       "  max-height: 200px;\n",
       "  max-width: 100%;\n",
       "  overflow: auto;\n",
       "}\n",
       "\n",
       "#sk-container-id-1 input.sk-toggleable__control:checked~label.sk-toggleable__label-arrow:before {\n",
       "  content: \"▾\";\n",
       "}\n",
       "\n",
       "/* Pipeline/ColumnTransformer-specific style */\n",
       "\n",
       "#sk-container-id-1 div.sk-label input.sk-toggleable__control:checked~label.sk-toggleable__label {\n",
       "  color: var(--sklearn-color-text);\n",
       "  background-color: var(--sklearn-color-unfitted-level-2);\n",
       "}\n",
       "\n",
       "#sk-container-id-1 div.sk-label.fitted input.sk-toggleable__control:checked~label.sk-toggleable__label {\n",
       "  background-color: var(--sklearn-color-fitted-level-2);\n",
       "}\n",
       "\n",
       "/* Estimator-specific style */\n",
       "\n",
       "/* Colorize estimator box */\n",
       "#sk-container-id-1 div.sk-estimator input.sk-toggleable__control:checked~label.sk-toggleable__label {\n",
       "  /* unfitted */\n",
       "  background-color: var(--sklearn-color-unfitted-level-2);\n",
       "}\n",
       "\n",
       "#sk-container-id-1 div.sk-estimator.fitted input.sk-toggleable__control:checked~label.sk-toggleable__label {\n",
       "  /* fitted */\n",
       "  background-color: var(--sklearn-color-fitted-level-2);\n",
       "}\n",
       "\n",
       "#sk-container-id-1 div.sk-label label.sk-toggleable__label,\n",
       "#sk-container-id-1 div.sk-label label {\n",
       "  /* The background is the default theme color */\n",
       "  color: var(--sklearn-color-text-on-default-background);\n",
       "}\n",
       "\n",
       "/* On hover, darken the color of the background */\n",
       "#sk-container-id-1 div.sk-label:hover label.sk-toggleable__label {\n",
       "  color: var(--sklearn-color-text);\n",
       "  background-color: var(--sklearn-color-unfitted-level-2);\n",
       "}\n",
       "\n",
       "/* Label box, darken color on hover, fitted */\n",
       "#sk-container-id-1 div.sk-label.fitted:hover label.sk-toggleable__label.fitted {\n",
       "  color: var(--sklearn-color-text);\n",
       "  background-color: var(--sklearn-color-fitted-level-2);\n",
       "}\n",
       "\n",
       "/* Estimator label */\n",
       "\n",
       "#sk-container-id-1 div.sk-label label {\n",
       "  font-family: monospace;\n",
       "  font-weight: bold;\n",
       "  display: inline-block;\n",
       "  line-height: 1.2em;\n",
       "}\n",
       "\n",
       "#sk-container-id-1 div.sk-label-container {\n",
       "  text-align: center;\n",
       "}\n",
       "\n",
       "/* Estimator-specific */\n",
       "#sk-container-id-1 div.sk-estimator {\n",
       "  font-family: monospace;\n",
       "  border: 1px dotted var(--sklearn-color-border-box);\n",
       "  border-radius: 0.25em;\n",
       "  box-sizing: border-box;\n",
       "  margin-bottom: 0.5em;\n",
       "  /* unfitted */\n",
       "  background-color: var(--sklearn-color-unfitted-level-0);\n",
       "}\n",
       "\n",
       "#sk-container-id-1 div.sk-estimator.fitted {\n",
       "  /* fitted */\n",
       "  background-color: var(--sklearn-color-fitted-level-0);\n",
       "}\n",
       "\n",
       "/* on hover */\n",
       "#sk-container-id-1 div.sk-estimator:hover {\n",
       "  /* unfitted */\n",
       "  background-color: var(--sklearn-color-unfitted-level-2);\n",
       "}\n",
       "\n",
       "#sk-container-id-1 div.sk-estimator.fitted:hover {\n",
       "  /* fitted */\n",
       "  background-color: var(--sklearn-color-fitted-level-2);\n",
       "}\n",
       "\n",
       "/* Specification for estimator info (e.g. \"i\" and \"?\") */\n",
       "\n",
       "/* Common style for \"i\" and \"?\" */\n",
       "\n",
       ".sk-estimator-doc-link,\n",
       "a:link.sk-estimator-doc-link,\n",
       "a:visited.sk-estimator-doc-link {\n",
       "  float: right;\n",
       "  font-size: smaller;\n",
       "  line-height: 1em;\n",
       "  font-family: monospace;\n",
       "  background-color: var(--sklearn-color-background);\n",
       "  border-radius: 1em;\n",
       "  height: 1em;\n",
       "  width: 1em;\n",
       "  text-decoration: none !important;\n",
       "  margin-left: 1ex;\n",
       "  /* unfitted */\n",
       "  border: var(--sklearn-color-unfitted-level-1) 1pt solid;\n",
       "  color: var(--sklearn-color-unfitted-level-1);\n",
       "}\n",
       "\n",
       ".sk-estimator-doc-link.fitted,\n",
       "a:link.sk-estimator-doc-link.fitted,\n",
       "a:visited.sk-estimator-doc-link.fitted {\n",
       "  /* fitted */\n",
       "  border: var(--sklearn-color-fitted-level-1) 1pt solid;\n",
       "  color: var(--sklearn-color-fitted-level-1);\n",
       "}\n",
       "\n",
       "/* On hover */\n",
       "div.sk-estimator:hover .sk-estimator-doc-link:hover,\n",
       ".sk-estimator-doc-link:hover,\n",
       "div.sk-label-container:hover .sk-estimator-doc-link:hover,\n",
       ".sk-estimator-doc-link:hover {\n",
       "  /* unfitted */\n",
       "  background-color: var(--sklearn-color-unfitted-level-3);\n",
       "  color: var(--sklearn-color-background);\n",
       "  text-decoration: none;\n",
       "}\n",
       "\n",
       "div.sk-estimator.fitted:hover .sk-estimator-doc-link.fitted:hover,\n",
       ".sk-estimator-doc-link.fitted:hover,\n",
       "div.sk-label-container:hover .sk-estimator-doc-link.fitted:hover,\n",
       ".sk-estimator-doc-link.fitted:hover {\n",
       "  /* fitted */\n",
       "  background-color: var(--sklearn-color-fitted-level-3);\n",
       "  color: var(--sklearn-color-background);\n",
       "  text-decoration: none;\n",
       "}\n",
       "\n",
       "/* Span, style for the box shown on hovering the info icon */\n",
       ".sk-estimator-doc-link span {\n",
       "  display: none;\n",
       "  z-index: 9999;\n",
       "  position: relative;\n",
       "  font-weight: normal;\n",
       "  right: .2ex;\n",
       "  padding: .5ex;\n",
       "  margin: .5ex;\n",
       "  width: min-content;\n",
       "  min-width: 20ex;\n",
       "  max-width: 50ex;\n",
       "  color: var(--sklearn-color-text);\n",
       "  box-shadow: 2pt 2pt 4pt #999;\n",
       "  /* unfitted */\n",
       "  background: var(--sklearn-color-unfitted-level-0);\n",
       "  border: .5pt solid var(--sklearn-color-unfitted-level-3);\n",
       "}\n",
       "\n",
       ".sk-estimator-doc-link.fitted span {\n",
       "  /* fitted */\n",
       "  background: var(--sklearn-color-fitted-level-0);\n",
       "  border: var(--sklearn-color-fitted-level-3);\n",
       "}\n",
       "\n",
       ".sk-estimator-doc-link:hover span {\n",
       "  display: block;\n",
       "}\n",
       "\n",
       "/* \"?\"-specific style due to the `<a>` HTML tag */\n",
       "\n",
       "#sk-container-id-1 a.estimator_doc_link {\n",
       "  float: right;\n",
       "  font-size: 1rem;\n",
       "  line-height: 1em;\n",
       "  font-family: monospace;\n",
       "  background-color: var(--sklearn-color-background);\n",
       "  border-radius: 1rem;\n",
       "  height: 1rem;\n",
       "  width: 1rem;\n",
       "  text-decoration: none;\n",
       "  /* unfitted */\n",
       "  color: var(--sklearn-color-unfitted-level-1);\n",
       "  border: var(--sklearn-color-unfitted-level-1) 1pt solid;\n",
       "}\n",
       "\n",
       "#sk-container-id-1 a.estimator_doc_link.fitted {\n",
       "  /* fitted */\n",
       "  border: var(--sklearn-color-fitted-level-1) 1pt solid;\n",
       "  color: var(--sklearn-color-fitted-level-1);\n",
       "}\n",
       "\n",
       "/* On hover */\n",
       "#sk-container-id-1 a.estimator_doc_link:hover {\n",
       "  /* unfitted */\n",
       "  background-color: var(--sklearn-color-unfitted-level-3);\n",
       "  color: var(--sklearn-color-background);\n",
       "  text-decoration: none;\n",
       "}\n",
       "\n",
       "#sk-container-id-1 a.estimator_doc_link.fitted:hover {\n",
       "  /* fitted */\n",
       "  background-color: var(--sklearn-color-fitted-level-3);\n",
       "}\n",
       "</style><div id=\"sk-container-id-1\" class=\"sk-top-container\"><div class=\"sk-text-repr-fallback\"><pre>GridSearchCV(cv=5,\n",
       "             estimator=MLPClassifier(alpha=0.0, batch_size=128, max_iter=400,\n",
       "                                     momentum=0, solver=&#x27;sgd&#x27;,\n",
       "                                     validation_fraction=0.2),\n",
       "             param_grid={&#x27;hidden_layer_sizes&#x27;: [(32,), (64,), (128,), (256,)],\n",
       "                         &#x27;learning_rate_init&#x27;: [0.001, 0.01, 0.1, 1]},\n",
       "             verbose=2)</pre><b>In a Jupyter environment, please rerun this cell to show the HTML representation or trust the notebook. <br />On GitHub, the HTML representation is unable to render, please try loading this page with nbviewer.org.</b></div><div class=\"sk-container\" hidden><div class=\"sk-item sk-dashed-wrapped\"><div class=\"sk-label-container\"><div class=\"sk-label fitted sk-toggleable\"><input class=\"sk-toggleable__control sk-hidden--visually\" id=\"sk-estimator-id-1\" type=\"checkbox\" ><label for=\"sk-estimator-id-1\" class=\"sk-toggleable__label fitted sk-toggleable__label-arrow fitted\">&nbsp;&nbsp;GridSearchCV<a class=\"sk-estimator-doc-link fitted\" rel=\"noreferrer\" target=\"_blank\" href=\"https://scikit-learn.org/1.4/modules/generated/sklearn.model_selection.GridSearchCV.html\">?<span>Documentation for GridSearchCV</span></a><span class=\"sk-estimator-doc-link fitted\">i<span>Fitted</span></span></label><div class=\"sk-toggleable__content fitted\"><pre>GridSearchCV(cv=5,\n",
       "             estimator=MLPClassifier(alpha=0.0, batch_size=128, max_iter=400,\n",
       "                                     momentum=0, solver=&#x27;sgd&#x27;,\n",
       "                                     validation_fraction=0.2),\n",
       "             param_grid={&#x27;hidden_layer_sizes&#x27;: [(32,), (64,), (128,), (256,)],\n",
       "                         &#x27;learning_rate_init&#x27;: [0.001, 0.01, 0.1, 1]},\n",
       "             verbose=2)</pre></div> </div></div><div class=\"sk-parallel\"><div class=\"sk-parallel-item\"><div class=\"sk-item\"><div class=\"sk-label-container\"><div class=\"sk-label fitted sk-toggleable\"><input class=\"sk-toggleable__control sk-hidden--visually\" id=\"sk-estimator-id-2\" type=\"checkbox\" ><label for=\"sk-estimator-id-2\" class=\"sk-toggleable__label fitted sk-toggleable__label-arrow fitted\">estimator: MLPClassifier</label><div class=\"sk-toggleable__content fitted\"><pre>MLPClassifier(alpha=0.0, batch_size=128, max_iter=400, momentum=0, solver=&#x27;sgd&#x27;,\n",
       "              validation_fraction=0.2)</pre></div> </div></div><div class=\"sk-serial\"><div class=\"sk-item\"><div class=\"sk-estimator fitted sk-toggleable\"><input class=\"sk-toggleable__control sk-hidden--visually\" id=\"sk-estimator-id-3\" type=\"checkbox\" ><label for=\"sk-estimator-id-3\" class=\"sk-toggleable__label fitted sk-toggleable__label-arrow fitted\">&nbsp;MLPClassifier<a class=\"sk-estimator-doc-link fitted\" rel=\"noreferrer\" target=\"_blank\" href=\"https://scikit-learn.org/1.4/modules/generated/sklearn.neural_network.MLPClassifier.html\">?<span>Documentation for MLPClassifier</span></a></label><div class=\"sk-toggleable__content fitted\"><pre>MLPClassifier(alpha=0.0, batch_size=128, max_iter=400, momentum=0, solver=&#x27;sgd&#x27;,\n",
       "              validation_fraction=0.2)</pre></div> </div></div></div></div></div></div></div></div></div>"
      ],
      "text/plain": [
       "GridSearchCV(cv=5,\n",
       "             estimator=MLPClassifier(alpha=0.0, batch_size=128, max_iter=400,\n",
       "                                     momentum=0, solver='sgd',\n",
       "                                     validation_fraction=0.2),\n",
       "             param_grid={'hidden_layer_sizes': [(32,), (64,), (128,), (256,)],\n",
       "                         'learning_rate_init': [0.001, 0.01, 0.1, 1]},\n",
       "             verbose=2)"
      ]
     },
     "execution_count": 10,
     "metadata": {},
     "output_type": "execute_result"
    }
   ],
   "source": [
    "#Hyperparameter optimization --> Need to redo because we had momentum\n",
    "\n",
    "\"\"\"We might be able to use the scikit-learn MLP implementation to find out which model parameters are ideal.\n",
    "In this way, we perform a grid search of all possible combinations, and then we basically report the one that's the best. Then, using the best\n",
    "model structure from the scikit-learn MLP implementation, we can train our MLP implementation and see if the accuracy is similar.\n",
    "\n",
    "We can also try and have our MLP implementation implement all the method required when passed to GridSearchCV so that GridSearchCV can be used\n",
    "directly with out MLP implementation.\n",
    "\"\"\"\n",
    "\n",
    "\n",
    "from sklearn.neural_network import MLPClassifier\n",
    "from sklearn.model_selection import GridSearchCV\n",
    "\n",
    "param_grid = {\n",
    "    'hidden_layer_sizes': [(32,), (64,), (128,), (256,)],  # Single layer with varying sizes\n",
    "    'learning_rate_init': [0.001, 0.01, 0.1, 1]\n",
    "}\n",
    "\n",
    "#No regularization alpha = 0.0\n",
    "scimlp = MLPClassifier(activation='relu', solver='sgd', alpha=0.0, batch_size=128, max_iter=400, momentum=0, validation_fraction=0.2)\n",
    "grid_search = GridSearchCV(scimlp, param_grid, cv=5, verbose=2)  #cv is K-fold cross validation, verbose is amount of detail printed to console\n",
    "grid_search.fit(X_train, y_train)\n",
    "\n",
    "\n"
   ]
  },
  {
   "cell_type": "code",
   "execution_count": 12,
   "metadata": {},
   "outputs": [
    {
     "name": "stdout",
     "output_type": "stream",
     "text": [
      "+--------------------+--------------------+----------------------+-----------------------+--------------------------+--------------------------+-------------------------------------------------------------+----------------------+----------------------+----------------------+----------------------+----------------------+---------------------+------------------------+-----------------+\n",
      "|   mean_fit_time    |    std_fit_time    |   mean_score_time    |     std_score_time    | param_hidden_layer_sizes | param_learning_rate_init |                            params                           |  split0_test_score   |  split1_test_score   |  split2_test_score   |  split3_test_score   |  split4_test_score   |   mean_test_score   |     std_test_score     | rank_test_score |\n",
      "+--------------------+--------------------+----------------------+-----------------------+--------------------------+--------------------------+-------------------------------------------------------------+----------------------+----------------------+----------------------+----------------------+----------------------+---------------------+------------------------+-----------------+\n",
      "| 106.19949202537536 | 22.59912075293255  |  0.0211850643157959  |  0.008388128739657453 |          (32,)           |          0.001           |  {'hidden_layer_sizes': (32,), 'learning_rate_init': 0.001} |  0.757967583318157   |  0.7627026042615188  |  0.7526862138044073  |  0.7446731014387179  |  0.7577854671280276  |  0.7551629939901657 |  0.006127986545854501  |        12       |\n",
      "| 126.45380110740662 | 9.675898779816784  | 0.018681907653808595 |  0.007360909393293934 |          (32,)           |           0.01           |  {'hidden_layer_sizes': (32,), 'learning_rate_init': 0.01}  |  0.9992715352394828  |  0.9998178838098707  |  0.9998178838098707  |  0.9998178838098707  |  0.9994536514296121  |  0.9996357676197414 | 0.00023036078384035909 |        4        |\n",
      "| 29.583879518508912 | 16.884747538439065 | 0.017538690567016603 |  0.005519079069020472 |          (32,)           |           0.1            |   {'hidden_layer_sizes': (32,), 'learning_rate_init': 0.1}  |  0.7982152613367328  |  0.7922054270624659  |  0.8231651793844473  |  0.8841741030777636  |         1.0          |  0.859551994172282  |  0.07739980074232335   |        8        |\n",
      "| 4.592590951919556  | 0.6837860274124337 | 0.014635324478149414 | 0.0020156736584686975 |          (32,)           |            1             |    {'hidden_layer_sizes': (32,), 'learning_rate_init': 1}   | 0.046985977053360044 | 0.04461846658167911  | 0.04716809324348935  | 0.045164815152067016 | 0.04716809324348935  | 0.04622108905481698 | 0.0011011631001880164  |        13       |\n",
      "| 168.7993110179901  | 10.398164394106047 | 0.022331857681274415 |  0.010824227249648787 |          (64,)           |          0.001           |  {'hidden_layer_sizes': (64,), 'learning_rate_init': 0.001} |  0.8213440174831542  |  0.8144236022582407  |  0.8036787470406119  |  0.8122382079766891  |  0.8118739755964305  |  0.8127117100710253 | 0.0056562837713506784  |        11       |\n",
      "| 162.05191049575805 | 11.198434814478192 | 0.021962976455688475 |  0.004730225918273591 |          (64,)           |           0.01           |  {'hidden_layer_sizes': (64,), 'learning_rate_init': 0.01}  |  0.9998178838098707  |  0.9998178838098707  |         1.0          |         1.0          |         1.0          |  0.9999271535239483 | 8.921834794329974e-05  |        2        |\n",
      "| 20.45463709831238  | 5.229888842779715  | 0.022537660598754884 |  0.010232916160927717 |          (64,)           |           0.1            |   {'hidden_layer_sizes': (64,), 'learning_rate_init': 0.1}  |  0.9278819887087962  |  0.9397195410672009  |  0.8708796211983245  |  0.8557639774175925  |  0.8825350573665999  |  0.8953560371517029 |  0.03273243546978127   |        7        |\n",
      "| 6.013642883300781  | 0.9561185599210094 | 0.018183135986328126 |  0.006631444021838187 |          (64,)           |            1             |    {'hidden_layer_sizes': (64,), 'learning_rate_init': 1}   | 0.04643962848297214  | 0.045164815152067016 | 0.045164815152067016 | 0.046621744673101435 | 0.046621744673101435 |  0.0460025496266618 | 0.0006872322806087496  |        14       |\n",
      "| 266.3156636238098  | 14.353423941373526 | 0.03066277503967285  |  0.007725066432133051 |          (128,)          |          0.001           | {'hidden_layer_sizes': (128,), 'learning_rate_init': 0.001} |  0.8282644327080677  |  0.8282644327080677  |  0.8417410307776362  |  0.8320888727007831  |  0.8268075031870333  |  0.8314332544163175 |  0.005443537917980548  |        10       |\n",
      "| 281.7033576488495  | 15.781777865102407 | 0.034110498428344724 |  0.012072232612185914 |          (128,)          |           0.01           |  {'hidden_layer_sizes': (128,), 'learning_rate_init': 0.01} |  0.9998178838098707  |  0.9998178838098707  |         1.0          |         1.0          |         1.0          |  0.9999271535239483 | 8.921834794329974e-05  |        2        |\n",
      "| 49.65838499069214  | 25.592595363615843 | 0.03687329292297363  |  0.012450489742330468 |          (128,)          |           0.1            |  {'hidden_layer_sizes': (128,), 'learning_rate_init': 0.1}  |  0.9499180477144418  |  0.9617556000728464  |         1.0          |         1.0          |  0.9639409943543981  |  0.9751229284283373 |  0.020865016217402724  |        6        |\n",
      "| 11.843586015701295 | 3.0418341039870587 | 0.03155384063720703  |  0.005677697839349658 |          (128,)          |            1             |   {'hidden_layer_sizes': (128,), 'learning_rate_init': 1}   | 0.046985977053360044 | 0.04716809324348935  | 0.046621744673101435 |  0.0435257694409033  | 0.041886723729739575 | 0.04523766162811874 |  0.00213814024715923   |        15       |\n",
      "| 705.3387949943542  | 39.040959146169236 | 0.041524219512939456 | 0.0063568543453532324 |          (256,)          |          0.001           | {'hidden_layer_sizes': (256,), 'learning_rate_init': 0.001} |  0.8450191221999636  |  0.8517574212347477  |  0.8411946822072482  |  0.8475687488617738  |  0.8470224002913859  |  0.8465124749590238 |  0.003446569948551027  |        9        |\n",
      "| 663.5251219272614  | 55.63278277234195  | 0.051783275604248044 |  0.021084995882861647 |          (256,)          |           0.01           |  {'hidden_layer_sizes': (256,), 'learning_rate_init': 0.01} |         1.0          |         1.0          |         1.0          |         1.0          |         1.0          |         1.0         |          0.0           |        1        |\n",
      "| 123.94346141815186 | 53.78036254463599  | 0.04331960678100586  |  0.007987002326598493 |          (256,)          |           0.1            |  {'hidden_layer_sizes': (256,), 'learning_rate_init': 0.1}  |         1.0          |         1.0          |         1.0          |  0.9890730285922419  |  0.978328173374613   |  0.9934802403933709 |  0.008677908121035159  |        5        |\n",
      "| 22.732485675811766 | 2.2627003874505376 | 0.03975696563720703  | 0.0065854233427962905 |          (256,)          |            1             |   {'hidden_layer_sizes': (256,), 'learning_rate_init': 1}   | 0.043707885631032596 | 0.045164815152067016 | 0.04716809324348935  |  0.0435257694409033  | 0.046621744673101435 | 0.04523766162811874 | 0.0014777244782444576  |        15       |\n",
      "+--------------------+--------------------+----------------------+-----------------------+--------------------------+--------------------------+-------------------------------------------------------------+----------------------+----------------------+----------------------+----------------------+----------------------+---------------------+------------------------+-----------------+\n"
     ]
    }
   ],
   "source": [
    "from prettytable import PrettyTable\n",
    "from sklearn.metrics import accuracy_score\n",
    "\n",
    "table = PrettyTable()\n",
    "\n",
    "for col in grid_search.cv_results_:\n",
    "    table.add_column(col, grid_search.cv_results_[col])\n",
    "\n",
    "print(table)\n",
    "data = table.get_string()\n",
    "with open('GridSearch_1HiddenLayer.txt', 'w') as f:\n",
    "    f.write(data)\n",
    "\n",
    "best_model = grid_search.best_estimator_\n",
    "print(best_model.get_params)\n",
    "best_model.fit(X_train, y_train)\n",
    "test_score = best_model.score(X_test, y_test)\n",
    "print(\"test accuracy:\", test_score)"
   ]
  },
  {
   "cell_type": "code",
   "execution_count": 14,
   "metadata": {},
   "outputs": [
    {
     "name": "stderr",
     "output_type": "stream",
     "text": [
      "100%|██████████| 400/400 [29:35<00:00,  4.44s/it]\n"
     ]
    },
    {
     "name": "stdout",
     "output_type": "stream",
     "text": [
      "ONE HIDDEN LAYER 32 with learning rate = 1.0\n"
     ]
    },
    {
     "data": {
      "image/png": "[encoded data removed]",
      "text/plain": [
       "<Figure size 640x480 with 1 Axes>"
      ]
     },
     "metadata": {},
     "output_type": "display_data"
    },
    {
     "name": "stdout",
     "output_type": "stream",
     "text": [
      "Train accuracy no validation = 4.52%\n",
      "Test accuracy no validation = 2.91%\n",
      "Train accuracy with validation = 8.57%\n",
      "Test accuracy with validation = 4.04%\n"
     ]
    },
    {
     "name": "stderr",
     "output_type": "stream",
     "text": [
      "100%|██████████| 400/400 [31:35<00:00,  4.74s/it]\n"
     ]
    },
    {
     "name": "stdout",
     "output_type": "stream",
     "text": [
      "ONE HIDDEN LAYER 32 with learning rate = 0.1\n"
     ]
    },
    {
     "data": {
      "image/png": "[encoded data removed]",
      "text/plain": [
       "<Figure size 640x480 with 1 Axes>"
      ]
     },
     "metadata": {},
     "output_type": "display_data"
    },
    {
     "name": "stdout",
     "output_type": "stream",
     "text": [
      "Train accuracy no validation = 74.37%\n",
      "Test accuracy no validation = 39.46%\n",
      "Train accuracy with validation = 73.75%\n",
      "Test accuracy with validation = 42.57%\n"
     ]
    },
    {
     "name": "stderr",
     "output_type": "stream",
     "text": [
      "100%|██████████| 400/400 [32:12<00:00,  4.83s/it]\n"
     ]
    },
    {
     "name": "stdout",
     "output_type": "stream",
     "text": [
      "ONE HIDDEN LAYER 32 with learning rate = 0.01\n"
     ]
    },
    {
     "data": {
      "image/png": "[encoded data removed]",
      "text/plain": [
       "<Figure size 640x480 with 1 Axes>"
      ]
     },
     "metadata": {},
     "output_type": "display_data"
    },
    {
     "name": "stdout",
     "output_type": "stream",
     "text": [
      "Train accuracy no validation = 80.75%\n",
      "Test accuracy no validation = 54.56%\n",
      "Train accuracy with validation = 79.77%\n",
      "Test accuracy with validation = 54.98%\n"
     ]
    },
    {
     "name": "stderr",
     "output_type": "stream",
     "text": [
      "100%|██████████| 400/400 [30:56<00:00,  4.64s/it]\n"
     ]
    },
    {
     "name": "stdout",
     "output_type": "stream",
     "text": [
      "ONE HIDDEN LAYER 32 with learning rate = 0.001\n"
     ]
    },
    {
     "data": {
      "image/png": "[encoded data removed]",
      "text/plain": [
       "<Figure size 640x480 with 1 Axes>"
      ]
     },
     "metadata": {},
     "output_type": "display_data"
    },
    {
     "name": "stdout",
     "output_type": "stream",
     "text": [
      "Train accuracy no validation = 49.12%\n",
      "Test accuracy no validation = 40.67%\n",
      "Train accuracy with validation = 48.36%\n",
      "Test accuracy with validation = 40.76%\n"
     ]
    }
   ],
   "source": [
    "HIDDEN_UNITS = 32\n",
    "learning_rates = [1e0, 1e-1, 1e-2, 1e-3]\n",
    "\n",
    "for i in learning_rates:\n",
    "    mlp_one_hidden_layer_32 = MLP(\n",
    "    LinearLayer(784, HIDDEN_UNITS),\n",
    "    ReLULayer(),\n",
    "    LinearLayer(HIDDEN_UNITS, 25),\n",
    "    SoftmaxOutputLayer()\n",
    ")\n",
    "    optimizer = GradientDescentOptimizer(mlp_one_hidden_layer_32, i)\n",
    "    gradient_steps = 400\n",
    "    best_val_params_32, training_losses_32, validation_losses_32 = train(mlp_one_hidden_layer_32, optimizer, X_train, y_train, gradient_steps)\n",
    "    best_no_val_params_32 = mlp_one_hidden_layer_32.get_params()\n",
    "    print(\"ONE HIDDEN LAYER 32 with learning rate = \" + str(i))\n",
    "    plot_losses(training_losses_32, validation_losses_32)\n",
    "    one_hidden_layer_stats = get_accuracy_stats(mlp_one_hidden_layer_32, best_no_val_params_32, best_val_params_32, X_test, y_test, X_train, y_train)\n"
   ]
  },
  {
   "cell_type": "markdown",
   "metadata": {},
   "source": [
    "<h3> From here, we have determined that the best learning rate is 0.01 </h3>"
   ]
  },
  {
   "cell_type": "code",
   "execution_count": 15,
   "metadata": {},
   "outputs": [
    {
     "name": "stderr",
     "output_type": "stream",
     "text": [
      "100%|██████████| 400/400 [50:49<00:00,  7.62s/it]\n"
     ]
    },
    {
     "name": "stdout",
     "output_type": "stream",
     "text": [
      "ONE HIDDEN LAYER 64\n"
     ]
    },
    {
     "data": {
      "image/png": "[encoded data removed]",
      "text/plain": [
       "<Figure size 640x480 with 1 Axes>"
      ]
     },
     "metadata": {},
     "output_type": "display_data"
    },
    {
     "name": "stdout",
     "output_type": "stream",
     "text": [
      "Train accuracy no validation = 98.88%\n",
      "Test accuracy no validation = 60.42%\n",
      "Train accuracy with validation = 98.74%\n",
      "Test accuracy with validation = 60.86%\n"
     ]
    }
   ],
   "source": [
    "HIDDEN_UNITS = 64\n",
    "mlp_one_hidden_layer_64 = MLP(\n",
    "    LinearLayer(784, HIDDEN_UNITS),\n",
    "    ReLULayer(),\n",
    "    LinearLayer(HIDDEN_UNITS, 25),\n",
    "    SoftmaxOutputLayer()\n",
    ")\n",
    "optimizer = GradientDescentOptimizer(mlp_one_hidden_layer_64, 1e-2)\n",
    "gradient_steps = 400\n",
    "best_val_params_64, training_losses_64, validation_losses_64 = train(mlp_one_hidden_layer_64, optimizer, X_train, y_train, gradient_steps)\n",
    "best_no_val_params_64 = mlp_one_hidden_layer_64.get_params()\n",
    "print(\"ONE HIDDEN LAYER 64\")\n",
    "plot_losses(training_losses_64, validation_losses_64)\n",
    "one_hidden_layer_stats = get_accuracy_stats(mlp_one_hidden_layer_64, best_no_val_params_64, best_val_params_64, X_test, y_test, X_train, y_train)"
   ]
  },
  {
   "cell_type": "code",
   "execution_count": 342,
   "metadata": {},
   "outputs": [
    {
     "name": "stderr",
     "output_type": "stream",
     "text": [
      "100%|██████████| 400/400 [1:33:23<00:00, 14.01s/it]\n"
     ]
    },
    {
     "name": "stdout",
     "output_type": "stream",
     "text": [
      "ONE HIDDEN LAYER 128 FOR OPTIMIZER OF TYPE: <class '__main__.GradientDescentOptimizer'>\n"
     ]
    },
    {
     "data": {
      "image/png": "[encoded data removed]",
      "text/plain": [
       "<Figure size 640x480 with 1 Axes>"
      ]
     },
     "metadata": {},
     "output_type": "display_data"
    },
    {
     "name": "stdout",
     "output_type": "stream",
     "text": [
      "Train accuracy no validation = 99.85%\n",
      "Test accuracy no validation = 55.58%\n",
      "Train accuracy with validation = 99.85%\n",
      "Test accuracy with validation = 55.13%\n"
     ]
    },
    {
     "name": "stderr",
     "output_type": "stream",
     "text": [
      "  3%|▎         | 11/400 [02:38<1:33:15, 14.38s/it]"
     ]
    },
    {
     "name": "stdout",
     "output_type": "stream",
     "text": [
      "Updated learning rate to 0.009000000000000001\n"
     ]
    },
    {
     "name": "stderr",
     "output_type": "stream",
     "text": [
      "  6%|▌         | 23/400 [05:33<1:34:37, 15.06s/it]"
     ]
    },
    {
     "name": "stdout",
     "output_type": "stream",
     "text": [
      "Updated learning rate to 0.008100000000000001\n"
     ]
    },
    {
     "name": "stderr",
     "output_type": "stream",
     "text": [
      "  8%|▊         | 34/400 [08:11<1:27:47, 14.39s/it]"
     ]
    },
    {
     "name": "stdout",
     "output_type": "stream",
     "text": [
      "Updated learning rate to 0.007290000000000001\n"
     ]
    },
    {
     "name": "stderr",
     "output_type": "stream",
     "text": [
      " 12%|█▏        | 46/400 [11:15<1:39:29, 16.86s/it]"
     ]
    },
    {
     "name": "stdout",
     "output_type": "stream",
     "text": [
      "Updated learning rate to 0.006561000000000002\n"
     ]
    },
    {
     "name": "stderr",
     "output_type": "stream",
     "text": [
      " 14%|█▍        | 58/400 [14:07<1:22:14, 14.43s/it]"
     ]
    },
    {
     "name": "stdout",
     "output_type": "stream",
     "text": [
      "Updated learning rate to 0.005904900000000002\n"
     ]
    },
    {
     "name": "stderr",
     "output_type": "stream",
     "text": [
      " 17%|█▋        | 69/400 [16:51<1:20:13, 14.54s/it]"
     ]
    },
    {
     "name": "stdout",
     "output_type": "stream",
     "text": [
      "Updated learning rate to 0.005314410000000002\n"
     ]
    },
    {
     "name": "stderr",
     "output_type": "stream",
     "text": [
      " 20%|██        | 81/400 [19:41<1:16:24, 14.37s/it]"
     ]
    },
    {
     "name": "stdout",
     "output_type": "stream",
     "text": [
      "Updated learning rate to 0.004782969000000002\n"
     ]
    },
    {
     "name": "stderr",
     "output_type": "stream",
     "text": [
      " 23%|██▎       | 93/400 [22:31<1:12:12, 14.11s/it]"
     ]
    },
    {
     "name": "stdout",
     "output_type": "stream",
     "text": [
      "Updated learning rate to 0.004304672100000002\n"
     ]
    },
    {
     "name": "stderr",
     "output_type": "stream",
     "text": [
      " 26%|██▌       | 104/400 [25:09<1:09:57, 14.18s/it]"
     ]
    },
    {
     "name": "stdout",
     "output_type": "stream",
     "text": [
      "Updated learning rate to 0.003874204890000002\n"
     ]
    },
    {
     "name": "stderr",
     "output_type": "stream",
     "text": [
      " 29%|██▉       | 116/400 [28:00<1:06:42, 14.09s/it]"
     ]
    },
    {
     "name": "stdout",
     "output_type": "stream",
     "text": [
      "Updated learning rate to 0.003486784401000002\n"
     ]
    },
    {
     "name": "stderr",
     "output_type": "stream",
     "text": [
      " 32%|███▏      | 127/400 [30:44<1:07:06, 14.75s/it]"
     ]
    },
    {
     "name": "stdout",
     "output_type": "stream",
     "text": [
      "Updated learning rate to 0.003138105960900002\n"
     ]
    },
    {
     "name": "stderr",
     "output_type": "stream",
     "text": [
      " 35%|███▍      | 139/400 [33:36<1:01:12, 14.07s/it]"
     ]
    },
    {
     "name": "stdout",
     "output_type": "stream",
     "text": [
      "Updated learning rate to 0.0028242953648100018\n"
     ]
    },
    {
     "name": "stderr",
     "output_type": "stream",
     "text": [
      " 38%|███▊      | 151/400 [36:27<59:15, 14.28s/it]  "
     ]
    },
    {
     "name": "stdout",
     "output_type": "stream",
     "text": [
      "Updated learning rate to 0.0025418658283290017\n"
     ]
    },
    {
     "name": "stderr",
     "output_type": "stream",
     "text": [
      " 40%|████      | 162/400 [39:04<56:40, 14.29s/it]"
     ]
    },
    {
     "name": "stdout",
     "output_type": "stream",
     "text": [
      "Updated learning rate to 0.0022876792454961017\n"
     ]
    },
    {
     "name": "stderr",
     "output_type": "stream",
     "text": [
      " 44%|████▎     | 174/400 [41:56<53:57, 14.33s/it]"
     ]
    },
    {
     "name": "stdout",
     "output_type": "stream",
     "text": [
      "Updated learning rate to 0.0020589113209464917\n"
     ]
    },
    {
     "name": "stderr",
     "output_type": "stream",
     "text": [
      " 46%|████▋     | 186/400 [44:47<50:46, 14.24s/it]"
     ]
    },
    {
     "name": "stdout",
     "output_type": "stream",
     "text": [
      "Updated learning rate to 0.0018530201888518425\n"
     ]
    },
    {
     "name": "stderr",
     "output_type": "stream",
     "text": [
      " 49%|████▉     | 197/400 [47:32<49:09, 14.53s/it]"
     ]
    },
    {
     "name": "stdout",
     "output_type": "stream",
     "text": [
      "Updated learning rate to 0.0016677181699666583\n"
     ]
    },
    {
     "name": "stderr",
     "output_type": "stream",
     "text": [
      " 52%|█████▏    | 209/400 [50:23<45:53, 14.42s/it]"
     ]
    },
    {
     "name": "stdout",
     "output_type": "stream",
     "text": [
      "Updated learning rate to 0.0015009463529699924\n"
     ]
    },
    {
     "name": "stderr",
     "output_type": "stream",
     "text": [
      " 55%|█████▌    | 220/400 [53:01<43:49, 14.61s/it]"
     ]
    },
    {
     "name": "stdout",
     "output_type": "stream",
     "text": [
      "Updated learning rate to 0.0013508517176729932\n"
     ]
    },
    {
     "name": "stderr",
     "output_type": "stream",
     "text": [
      " 58%|█████▊    | 232/400 [55:51<40:05, 14.32s/it]"
     ]
    },
    {
     "name": "stdout",
     "output_type": "stream",
     "text": [
      "Updated learning rate to 0.001215766545905694\n"
     ]
    },
    {
     "name": "stderr",
     "output_type": "stream",
     "text": [
      " 61%|██████    | 244/400 [58:42<36:39, 14.10s/it]"
     ]
    },
    {
     "name": "stdout",
     "output_type": "stream",
     "text": [
      "Updated learning rate to 0.0010941898913151245\n"
     ]
    },
    {
     "name": "stderr",
     "output_type": "stream",
     "text": [
      " 64%|██████▍   | 255/400 [1:01:26<35:31, 14.70s/it]"
     ]
    },
    {
     "name": "stdout",
     "output_type": "stream",
     "text": [
      "Updated learning rate to 0.0009847709021836122\n"
     ]
    },
    {
     "name": "stderr",
     "output_type": "stream",
     "text": [
      " 67%|██████▋   | 267/400 [1:04:17<31:12, 14.08s/it]"
     ]
    },
    {
     "name": "stdout",
     "output_type": "stream",
     "text": [
      "Updated learning rate to 0.0008862938119652509\n"
     ]
    },
    {
     "name": "stderr",
     "output_type": "stream",
     "text": [
      " 70%|██████▉   | 279/400 [1:07:09<28:26, 14.10s/it]"
     ]
    },
    {
     "name": "stdout",
     "output_type": "stream",
     "text": [
      "Updated learning rate to 0.0007976644307687258\n"
     ]
    },
    {
     "name": "stderr",
     "output_type": "stream",
     "text": [
      " 72%|███████▎  | 290/400 [1:09:46<26:03, 14.21s/it]"
     ]
    },
    {
     "name": "stdout",
     "output_type": "stream",
     "text": [
      "Updated learning rate to 0.0007178979876918532\n"
     ]
    },
    {
     "name": "stderr",
     "output_type": "stream",
     "text": [
      " 76%|███████▌  | 302/400 [1:12:38<23:28, 14.37s/it]"
     ]
    },
    {
     "name": "stdout",
     "output_type": "stream",
     "text": [
      "Updated learning rate to 0.0006461081889226679\n"
     ]
    },
    {
     "name": "stderr",
     "output_type": "stream",
     "text": [
      " 78%|███████▊  | 313/400 [1:15:16<20:48, 14.35s/it]"
     ]
    },
    {
     "name": "stdout",
     "output_type": "stream",
     "text": [
      "Updated learning rate to 0.0005814973700304011\n"
     ]
    },
    {
     "name": "stderr",
     "output_type": "stream",
     "text": [
      " 81%|████████▏ | 325/400 [1:18:12<17:43, 14.18s/it]"
     ]
    },
    {
     "name": "stdout",
     "output_type": "stream",
     "text": [
      "Updated learning rate to 0.0005233476330273611\n"
     ]
    },
    {
     "name": "stderr",
     "output_type": "stream",
     "text": [
      " 84%|████████▍ | 337/400 [1:21:03<15:00, 14.30s/it]"
     ]
    },
    {
     "name": "stdout",
     "output_type": "stream",
     "text": [
      "Updated learning rate to 0.000471012869724625\n"
     ]
    },
    {
     "name": "stderr",
     "output_type": "stream",
     "text": [
      " 87%|████████▋ | 348/400 [1:23:40<12:23, 14.30s/it]"
     ]
    },
    {
     "name": "stdout",
     "output_type": "stream",
     "text": [
      "Updated learning rate to 0.0004239115827521625\n"
     ]
    },
    {
     "name": "stderr",
     "output_type": "stream",
     "text": [
      " 90%|█████████ | 360/400 [1:26:30<09:30, 14.25s/it]"
     ]
    },
    {
     "name": "stdout",
     "output_type": "stream",
     "text": [
      "Updated learning rate to 0.00038152042447694626\n"
     ]
    },
    {
     "name": "stderr",
     "output_type": "stream",
     "text": [
      " 93%|█████████▎| 372/400 [5:32:42<2:03:13, 264.04s/it]  "
     ]
    },
    {
     "name": "stdout",
     "output_type": "stream",
     "text": [
      "Updated learning rate to 0.00034336838202925164\n"
     ]
    },
    {
     "name": "stderr",
     "output_type": "stream",
     "text": [
      " 96%|█████████▌| 383/400 [5:34:47<04:36, 16.24s/it]   "
     ]
    },
    {
     "name": "stdout",
     "output_type": "stream",
     "text": [
      "Updated learning rate to 0.0003090315438263265\n"
     ]
    },
    {
     "name": "stderr",
     "output_type": "stream",
     "text": [
      " 99%|█████████▉| 395/400 [5:37:03<00:57, 11.52s/it]"
     ]
    },
    {
     "name": "stdout",
     "output_type": "stream",
     "text": [
      "Updated learning rate to 0.00027812838944369386\n"
     ]
    },
    {
     "name": "stderr",
     "output_type": "stream",
     "text": [
      "100%|██████████| 400/400 [5:37:59<00:00, 50.70s/it]\n"
     ]
    },
    {
     "name": "stdout",
     "output_type": "stream",
     "text": [
      "ONE HIDDEN LAYER 128 FOR OPTIMIZER OF TYPE: <class '__main__.GradientDescentOptimizerWithSchedule'>\n"
     ]
    },
    {
     "data": {
      "image/png": "[encoded data removed]",
      "text/plain": [
       "<Figure size 640x480 with 1 Axes>"
      ]
     },
     "metadata": {},
     "output_type": "display_data"
    },
    {
     "name": "stdout",
     "output_type": "stream",
     "text": [
      "Train accuracy no validation = 97.55%\n",
      "Test accuracy no validation = 57.04%\n",
      "Train accuracy with validation = 97.51%\n",
      "Test accuracy with validation = 57.06%\n"
     ]
    }
   ],
   "source": [
    "HIDDEN_UNITS = 128\n",
    "\n",
    "for i in range(2):\n",
    "    mlp_one_hidden_layer_128 = MLP(\n",
    "    LinearLayer(784, HIDDEN_UNITS),\n",
    "    ReLULayer(),\n",
    "    LinearLayer(HIDDEN_UNITS, 25),\n",
    "    SoftmaxOutputLayer()\n",
    ")\n",
    "    if i == 0:\n",
    "        optimizer = GradientDescentOptimizer(mlp_one_hidden_layer_128, 1e-2)\n",
    "    else:\n",
    "        optimizer = GradientDescentOptimizerWithSchedule(mlp_one_hidden_layer_128, lr= 1e-2, schedule_step=2000, decay_factor=0.9 )\n",
    "    gradient_steps = 400\n",
    "    best_val_params_128, training_losses_128, validation_losses_128 = train(mlp_one_hidden_layer_128, optimizer, X_train, y_train, gradient_steps)\n",
    "    best_no_val_params_128 = mlp_one_hidden_layer_128.get_params()\n",
    "    print(\"ONE HIDDEN LAYER 128 FOR OPTIMIZER OF TYPE: \" + str((optimizer.__class__)))\n",
    "    plot_losses(training_losses_128, validation_losses_128)\n",
    "    one_hidden_layer_stats = get_accuracy_stats(mlp_one_hidden_layer_128, best_no_val_params_128, best_val_params_128, X_test, y_test, X_train, y_train)\n",
    "\n"
   ]
  },
  {
   "cell_type": "code",
   "execution_count": 10,
   "metadata": {},
   "outputs": [
    {
     "name": "stderr",
     "output_type": "stream",
     "text": [
      "100%|██████████| 400/400 [2:30:52<00:00, 22.63s/it]  \n"
     ]
    },
    {
     "name": "stdout",
     "output_type": "stream",
     "text": [
      "ONE HIDDEN LAYER 256\n"
     ]
    },
    {
     "data": {
      "image/png": "[encoded data removed]",
      "text/plain": [
       "<Figure size 640x480 with 1 Axes>"
      ]
     },
     "metadata": {},
     "output_type": "display_data"
    },
    {
     "name": "stdout",
     "output_type": "stream",
     "text": [
      "Train accuracy no validation = 99.90%\n",
      "Test accuracy no validation = 57.74%\n",
      "Train accuracy with validation = 99.89%\n",
      "Test accuracy with validation = 57.68%\n"
     ]
    }
   ],
   "source": [
    "HIDDEN_UNITS = 256\n",
    "mlp_one_hidden_layer_256 = MLP(\n",
    "    LinearLayer(784, HIDDEN_UNITS),\n",
    "    ReLULayer(),\n",
    "    LinearLayer(HIDDEN_UNITS, 25),\n",
    "    SoftmaxOutputLayer()\n",
    ")\n",
    "optimizer = GradientDescentOptimizer(mlp_one_hidden_layer_256, 1e-2)\n",
    "gradient_steps = 400\n",
    "best_val_params_256, training_losses_256, validation_losses_256 = train(mlp_one_hidden_layer_256, optimizer, X_train, y_train, gradient_steps)\n",
    "best_no_val_params_256 = mlp_one_hidden_layer_256.get_params()\n",
    "print(\"ONE HIDDEN LAYER 256\")\n",
    "plot_losses(training_losses_256, validation_losses_256)\n",
    "one_hidden_layer_stats = get_accuracy_stats(mlp_one_hidden_layer_256, best_no_val_params_256, best_val_params_256, X_test, y_test, X_train, y_train)"
   ]
  },
  {
   "cell_type": "code",
   "execution_count": null,
   "metadata": {},
   "outputs": [],
   "source": [
    "### When its obvious that the loss is continuing to decrease, we can keep going like this:\n",
    "### mlp_one_hidden_layer_256 still has the params from the last 200 epochs of training\n",
    "\n",
    "#Training another 200 epochs\n",
    "# best_val_params_256_ROUND2, training_losses_256_ROUND2, validation_losses_256_ROUND2 = train(mlp_one_hidden_layer_256, optimizer, X_train, y_train, gradient_steps)\n",
    "# best_no_val_params_256_ROUND2 = mlp_one_hidden_layer_256.get_params()\n",
    "# training_losses_256_COMBINED = training_losses_256+training_losses_256_ROUND2\n",
    "# validation_losses_256_COMBINED = validation_losses_256+validation_losses_256_ROUND2\n",
    "# print(\"ONE HIDDEN LAYER 256 ROUND 2\")\n",
    "# plot_losses(training_losses_256_COMBINED, validation_losses_256_COMBINED)\n",
    "# one_hidden_layer_stats_ROUND2 = get_accuracy_stats(mlp_one_hidden_layer_256, best_no_val_params_256_ROUND2, best_val_params_256_ROUND2, X_test, y_test, X_train, y_train)\n"
   ]
  },
  {
   "cell_type": "markdown",
   "metadata": {},
   "source": [
    "<h3>Two Hidden Layers</h3>"
   ]
  },
  {
   "cell_type": "code",
   "execution_count": 10,
   "metadata": {},
   "outputs": [
    {
     "name": "stdout",
     "output_type": "stream",
     "text": [
      "Fitting 5 folds for each of 16 candidates, totalling 80 fits\n",
      "[CV] END hidden_layer_sizes=(128, 32), learning_rate_init=0.001; total time= 5.5min\n",
      "[CV] END hidden_layer_sizes=(128, 32), learning_rate_init=0.001; total time= 4.8min\n",
      "[CV] END hidden_layer_sizes=(128, 32), learning_rate_init=0.001; total time= 4.3min\n",
      "[CV] END hidden_layer_sizes=(128, 32), learning_rate_init=0.001; total time= 3.7min\n",
      "[CV] END hidden_layer_sizes=(128, 32), learning_rate_init=0.001; total time= 3.8min\n",
      "[CV] END hidden_layer_sizes=(128, 32), learning_rate_init=0.01; total time= 2.5min\n",
      "[CV] END hidden_layer_sizes=(128, 32), learning_rate_init=0.01; total time= 2.4min\n",
      "[CV] END hidden_layer_sizes=(128, 32), learning_rate_init=0.01; total time= 3.0min\n",
      "[CV] END hidden_layer_sizes=(128, 32), learning_rate_init=0.01; total time= 2.6min\n",
      "[CV] END hidden_layer_sizes=(128, 32), learning_rate_init=0.01; total time= 2.5min\n",
      "[CV] END hidden_layer_sizes=(128, 32), learning_rate_init=0.1; total time=  32.3s\n",
      "[CV] END hidden_layer_sizes=(128, 32), learning_rate_init=0.1; total time=  18.5s\n",
      "[CV] END hidden_layer_sizes=(128, 32), learning_rate_init=0.1; total time=  27.6s\n",
      "[CV] END hidden_layer_sizes=(128, 32), learning_rate_init=0.1; total time=  18.4s\n",
      "[CV] END hidden_layer_sizes=(128, 32), learning_rate_init=0.1; total time=  18.3s\n",
      "[CV] END .hidden_layer_sizes=(128, 32), learning_rate_init=1; total time=   9.9s\n",
      "[CV] END .hidden_layer_sizes=(128, 32), learning_rate_init=1; total time=  14.1s\n",
      "[CV] END .hidden_layer_sizes=(128, 32), learning_rate_init=1; total time=   9.3s\n",
      "[CV] END .hidden_layer_sizes=(128, 32), learning_rate_init=1; total time=   7.6s\n",
      "[CV] END .hidden_layer_sizes=(128, 32), learning_rate_init=1; total time=   8.7s\n",
      "[CV] END hidden_layer_sizes=(128, 64), learning_rate_init=0.001; total time= 4.4min\n",
      "[CV] END hidden_layer_sizes=(128, 64), learning_rate_init=0.001; total time= 4.3min\n",
      "[CV] END hidden_layer_sizes=(128, 64), learning_rate_init=0.001; total time= 4.2min\n",
      "[CV] END hidden_layer_sizes=(128, 64), learning_rate_init=0.001; total time= 4.2min\n",
      "[CV] END hidden_layer_sizes=(128, 64), learning_rate_init=0.001; total time= 4.5min\n",
      "[CV] END hidden_layer_sizes=(128, 64), learning_rate_init=0.01; total time= 2.9min\n",
      "[CV] END hidden_layer_sizes=(128, 64), learning_rate_init=0.01; total time= 4.0min\n",
      "[CV] END hidden_layer_sizes=(128, 64), learning_rate_init=0.01; total time= 2.4min\n",
      "[CV] END hidden_layer_sizes=(128, 64), learning_rate_init=0.01; total time= 3.1min\n",
      "[CV] END hidden_layer_sizes=(128, 64), learning_rate_init=0.01; total time= 2.6min\n",
      "[CV] END hidden_layer_sizes=(128, 64), learning_rate_init=0.1; total time=  59.5s\n",
      "[CV] END hidden_layer_sizes=(128, 64), learning_rate_init=0.1; total time=  49.0s\n",
      "[CV] END hidden_layer_sizes=(128, 64), learning_rate_init=0.1; total time=  49.7s\n",
      "[CV] END hidden_layer_sizes=(128, 64), learning_rate_init=0.1; total time=  50.3s\n",
      "[CV] END hidden_layer_sizes=(128, 64), learning_rate_init=0.1; total time=  48.8s\n",
      "[CV] END .hidden_layer_sizes=(128, 64), learning_rate_init=1; total time=  10.3s\n",
      "[CV] END .hidden_layer_sizes=(128, 64), learning_rate_init=1; total time=  17.0s\n",
      "[CV] END .hidden_layer_sizes=(128, 64), learning_rate_init=1; total time=   9.1s\n",
      "[CV] END .hidden_layer_sizes=(128, 64), learning_rate_init=1; total time=  13.9s\n",
      "[CV] END .hidden_layer_sizes=(128, 64), learning_rate_init=1; total time=   9.1s\n",
      "[CV] END hidden_layer_sizes=(128, 128), learning_rate_init=0.001; total time= 5.1min\n",
      "[CV] END hidden_layer_sizes=(128, 128), learning_rate_init=0.001; total time= 5.1min\n",
      "[CV] END hidden_layer_sizes=(128, 128), learning_rate_init=0.001; total time= 5.6min\n",
      "[CV] END hidden_layer_sizes=(128, 128), learning_rate_init=0.001; total time= 6.3min\n",
      "[CV] END hidden_layer_sizes=(128, 128), learning_rate_init=0.001; total time= 5.4min\n",
      "[CV] END hidden_layer_sizes=(128, 128), learning_rate_init=0.01; total time= 5.8min\n",
      "[CV] END hidden_layer_sizes=(128, 128), learning_rate_init=0.01; total time= 6.1min\n",
      "[CV] END hidden_layer_sizes=(128, 128), learning_rate_init=0.01; total time= 3.5min\n",
      "[CV] END hidden_layer_sizes=(128, 128), learning_rate_init=0.01; total time= 2.8min\n",
      "[CV] END hidden_layer_sizes=(128, 128), learning_rate_init=0.01; total time= 3.0min\n",
      "[CV] END hidden_layer_sizes=(128, 128), learning_rate_init=0.1; total time= 1.1min\n",
      "[CV] END hidden_layer_sizes=(128, 128), learning_rate_init=0.1; total time=  55.0s\n",
      "[CV] END hidden_layer_sizes=(128, 128), learning_rate_init=0.1; total time=  52.2s\n",
      "[CV] END hidden_layer_sizes=(128, 128), learning_rate_init=0.1; total time=  58.2s\n",
      "[CV] END hidden_layer_sizes=(128, 128), learning_rate_init=0.1; total time=  36.7s\n",
      "[CV] END hidden_layer_sizes=(128, 128), learning_rate_init=1; total time=  18.9s\n",
      "[CV] END hidden_layer_sizes=(128, 128), learning_rate_init=1; total time=  20.0s\n",
      "[CV] END hidden_layer_sizes=(128, 128), learning_rate_init=1; total time=  28.1s\n",
      "[CV] END hidden_layer_sizes=(128, 128), learning_rate_init=1; total time=  37.0s\n",
      "[CV] END hidden_layer_sizes=(128, 128), learning_rate_init=1; total time=  44.1s\n",
      "[CV] END hidden_layer_sizes=(128, 256), learning_rate_init=0.001; total time=11.5min\n",
      "[CV] END hidden_layer_sizes=(128, 256), learning_rate_init=0.001; total time= 9.0min\n",
      "[CV] END hidden_layer_sizes=(128, 256), learning_rate_init=0.001; total time= 6.3min\n",
      "[CV] END hidden_layer_sizes=(128, 256), learning_rate_init=0.001; total time= 5.7min\n",
      "[CV] END hidden_layer_sizes=(128, 256), learning_rate_init=0.001; total time= 5.5min\n",
      "[CV] END hidden_layer_sizes=(128, 256), learning_rate_init=0.01; total time= 8.5min\n",
      "[CV] END hidden_layer_sizes=(128, 256), learning_rate_init=0.01; total time= 7.6min\n",
      "[CV] END hidden_layer_sizes=(128, 256), learning_rate_init=0.01; total time= 7.7min\n",
      "[CV] END hidden_layer_sizes=(128, 256), learning_rate_init=0.01; total time= 7.6min\n",
      "[CV] END hidden_layer_sizes=(128, 256), learning_rate_init=0.01; total time= 4.7min\n",
      "[CV] END hidden_layer_sizes=(128, 256), learning_rate_init=0.1; total time=  59.7s\n",
      "[CV] END hidden_layer_sizes=(128, 256), learning_rate_init=0.1; total time= 1.2min\n",
      "[CV] END hidden_layer_sizes=(128, 256), learning_rate_init=0.1; total time=  58.7s\n",
      "[CV] END hidden_layer_sizes=(128, 256), learning_rate_init=0.1; total time=  24.3s\n",
      "[CV] END hidden_layer_sizes=(128, 256), learning_rate_init=0.1; total time= 1.1min\n",
      "[CV] END hidden_layer_sizes=(128, 256), learning_rate_init=1; total time=  19.0s\n",
      "[CV] END hidden_layer_sizes=(128, 256), learning_rate_init=1; total time=  12.8s\n",
      "[CV] END hidden_layer_sizes=(128, 256), learning_rate_init=1; total time=  14.7s\n",
      "[CV] END hidden_layer_sizes=(128, 256), learning_rate_init=1; total time=  24.9s\n",
      "[CV] END hidden_layer_sizes=(128, 256), learning_rate_init=1; total time=  31.0s\n"
     ]
    },
    {
     "data": {
      "text/html": [
       "<style>#sk-container-id-1 {\n",
       "  /* Definition of color scheme common for light and dark mode */\n",
       "  --sklearn-color-text: black;\n",
       "  --sklearn-color-line: gray;\n",
       "  /* Definition of color scheme for unfitted estimators */\n",
       "  --sklearn-color-unfitted-level-0: #fff5e6;\n",
       "  --sklearn-color-unfitted-level-1: #f6e4d2;\n",
       "  --sklearn-color-unfitted-level-2: #ffe0b3;\n",
       "  --sklearn-color-unfitted-level-3: chocolate;\n",
       "  /* Definition of color scheme for fitted estimators */\n",
       "  --sklearn-color-fitted-level-0: #f0f8ff;\n",
       "  --sklearn-color-fitted-level-1: #d4ebff;\n",
       "  --sklearn-color-fitted-level-2: #b3dbfd;\n",
       "  --sklearn-color-fitted-level-3: cornflowerblue;\n",
       "\n",
       "  /* Specific color for light theme */\n",
       "  --sklearn-color-text-on-default-background: var(--sg-text-color, var(--theme-code-foreground, var(--jp-content-font-color1, black)));\n",
       "  --sklearn-color-background: var(--sg-background-color, var(--theme-background, var(--jp-layout-color0, white)));\n",
       "  --sklearn-color-border-box: var(--sg-text-color, var(--theme-code-foreground, var(--jp-content-font-color1, black)));\n",
       "  --sklearn-color-icon: #696969;\n",
       "\n",
       "  @media (prefers-color-scheme: dark) {\n",
       "    /* Redefinition of color scheme for dark theme */\n",
       "    --sklearn-color-text-on-default-background: var(--sg-text-color, var(--theme-code-foreground, var(--jp-content-font-color1, white)));\n",
       "    --sklearn-color-background: var(--sg-background-color, var(--theme-background, var(--jp-layout-color0, #111)));\n",
       "    --sklearn-color-border-box: var(--sg-text-color, var(--theme-code-foreground, var(--jp-content-font-color1, white)));\n",
       "    --sklearn-color-icon: #878787;\n",
       "  }\n",
       "}\n",
       "\n",
       "#sk-container-id-1 {\n",
       "  color: var(--sklearn-color-text);\n",
       "}\n",
       "\n",
       "#sk-container-id-1 pre {\n",
       "  padding: 0;\n",
       "}\n",
       "\n",
       "#sk-container-id-1 input.sk-hidden--visually {\n",
       "  border: 0;\n",
       "  clip: rect(1px 1px 1px 1px);\n",
       "  clip: rect(1px, 1px, 1px, 1px);\n",
       "  height: 1px;\n",
       "  margin: -1px;\n",
       "  overflow: hidden;\n",
       "  padding: 0;\n",
       "  position: absolute;\n",
       "  width: 1px;\n",
       "}\n",
       "\n",
       "#sk-container-id-1 div.sk-dashed-wrapped {\n",
       "  border: 1px dashed var(--sklearn-color-line);\n",
       "  margin: 0 0.4em 0.5em 0.4em;\n",
       "  box-sizing: border-box;\n",
       "  padding-bottom: 0.4em;\n",
       "  background-color: var(--sklearn-color-background);\n",
       "}\n",
       "\n",
       "#sk-container-id-1 div.sk-container {\n",
       "  /* jupyter's `normalize.less` sets `[hidden] { display: none; }`\n",
       "     but bootstrap.min.css set `[hidden] { display: none !important; }`\n",
       "     so we also need the `!important` here to be able to override the\n",
       "     default hidden behavior on the sphinx rendered scikit-learn.org.\n",
       "     See: https://github.com/scikit-learn/scikit-learn/issues/21755 */\n",
       "  display: inline-block !important;\n",
       "  position: relative;\n",
       "}\n",
       "\n",
       "#sk-container-id-1 div.sk-text-repr-fallback {\n",
       "  display: none;\n",
       "}\n",
       "\n",
       "div.sk-parallel-item,\n",
       "div.sk-serial,\n",
       "div.sk-item {\n",
       "  /* draw centered vertical line to link estimators */\n",
       "  background-image: linear-gradient(var(--sklearn-color-text-on-default-background), var(--sklearn-color-text-on-default-background));\n",
       "  background-size: 2px 100%;\n",
       "  background-repeat: no-repeat;\n",
       "  background-position: center center;\n",
       "}\n",
       "\n",
       "/* Parallel-specific style estimator block */\n",
       "\n",
       "#sk-container-id-1 div.sk-parallel-item::after {\n",
       "  content: \"\";\n",
       "  width: 100%;\n",
       "  border-bottom: 2px solid var(--sklearn-color-text-on-default-background);\n",
       "  flex-grow: 1;\n",
       "}\n",
       "\n",
       "#sk-container-id-1 div.sk-parallel {\n",
       "  display: flex;\n",
       "  align-items: stretch;\n",
       "  justify-content: center;\n",
       "  background-color: var(--sklearn-color-background);\n",
       "  position: relative;\n",
       "}\n",
       "\n",
       "#sk-container-id-1 div.sk-parallel-item {\n",
       "  display: flex;\n",
       "  flex-direction: column;\n",
       "}\n",
       "\n",
       "#sk-container-id-1 div.sk-parallel-item:first-child::after {\n",
       "  align-self: flex-end;\n",
       "  width: 50%;\n",
       "}\n",
       "\n",
       "#sk-container-id-1 div.sk-parallel-item:last-child::after {\n",
       "  align-self: flex-start;\n",
       "  width: 50%;\n",
       "}\n",
       "\n",
       "#sk-container-id-1 div.sk-parallel-item:only-child::after {\n",
       "  width: 0;\n",
       "}\n",
       "\n",
       "/* Serial-specific style estimator block */\n",
       "\n",
       "#sk-container-id-1 div.sk-serial {\n",
       "  display: flex;\n",
       "  flex-direction: column;\n",
       "  align-items: center;\n",
       "  background-color: var(--sklearn-color-background);\n",
       "  padding-right: 1em;\n",
       "  padding-left: 1em;\n",
       "}\n",
       "\n",
       "\n",
       "/* Toggleable style: style used for estimator/Pipeline/ColumnTransformer box that is\n",
       "clickable and can be expanded/collapsed.\n",
       "- Pipeline and ColumnTransformer use this feature and define the default style\n",
       "- Estimators will overwrite some part of the style using the `sk-estimator` class\n",
       "*/\n",
       "\n",
       "/* Pipeline and ColumnTransformer style (default) */\n",
       "\n",
       "#sk-container-id-1 div.sk-toggleable {\n",
       "  /* Default theme specific background. It is overwritten whether we have a\n",
       "  specific estimator or a Pipeline/ColumnTransformer */\n",
       "  background-color: var(--sklearn-color-background);\n",
       "}\n",
       "\n",
       "/* Toggleable label */\n",
       "#sk-container-id-1 label.sk-toggleable__label {\n",
       "  cursor: pointer;\n",
       "  display: block;\n",
       "  width: 100%;\n",
       "  margin-bottom: 0;\n",
       "  padding: 0.5em;\n",
       "  box-sizing: border-box;\n",
       "  text-align: center;\n",
       "}\n",
       "\n",
       "#sk-container-id-1 label.sk-toggleable__label-arrow:before {\n",
       "  /* Arrow on the left of the label */\n",
       "  content: \"▸\";\n",
       "  float: left;\n",
       "  margin-right: 0.25em;\n",
       "  color: var(--sklearn-color-icon);\n",
       "}\n",
       "\n",
       "#sk-container-id-1 label.sk-toggleable__label-arrow:hover:before {\n",
       "  color: var(--sklearn-color-text);\n",
       "}\n",
       "\n",
       "/* Toggleable content - dropdown */\n",
       "\n",
       "#sk-container-id-1 div.sk-toggleable__content {\n",
       "  max-height: 0;\n",
       "  max-width: 0;\n",
       "  overflow: hidden;\n",
       "  text-align: left;\n",
       "  /* unfitted */\n",
       "  background-color: var(--sklearn-color-unfitted-level-0);\n",
       "}\n",
       "\n",
       "#sk-container-id-1 div.sk-toggleable__content.fitted {\n",
       "  /* fitted */\n",
       "  background-color: var(--sklearn-color-fitted-level-0);\n",
       "}\n",
       "\n",
       "#sk-container-id-1 div.sk-toggleable__content pre {\n",
       "  margin: 0.2em;\n",
       "  border-radius: 0.25em;\n",
       "  color: var(--sklearn-color-text);\n",
       "  /* unfitted */\n",
       "  background-color: var(--sklearn-color-unfitted-level-0);\n",
       "}\n",
       "\n",
       "#sk-container-id-1 div.sk-toggleable__content.fitted pre {\n",
       "  /* unfitted */\n",
       "  background-color: var(--sklearn-color-fitted-level-0);\n",
       "}\n",
       "\n",
       "#sk-container-id-1 input.sk-toggleable__control:checked~div.sk-toggleable__content {\n",
       "  /* Expand drop-down */\n",
       "  max-height: 200px;\n",
       "  max-width: 100%;\n",
       "  overflow: auto;\n",
       "}\n",
       "\n",
       "#sk-container-id-1 input.sk-toggleable__control:checked~label.sk-toggleable__label-arrow:before {\n",
       "  content: \"▾\";\n",
       "}\n",
       "\n",
       "/* Pipeline/ColumnTransformer-specific style */\n",
       "\n",
       "#sk-container-id-1 div.sk-label input.sk-toggleable__control:checked~label.sk-toggleable__label {\n",
       "  color: var(--sklearn-color-text);\n",
       "  background-color: var(--sklearn-color-unfitted-level-2);\n",
       "}\n",
       "\n",
       "#sk-container-id-1 div.sk-label.fitted input.sk-toggleable__control:checked~label.sk-toggleable__label {\n",
       "  background-color: var(--sklearn-color-fitted-level-2);\n",
       "}\n",
       "\n",
       "/* Estimator-specific style */\n",
       "\n",
       "/* Colorize estimator box */\n",
       "#sk-container-id-1 div.sk-estimator input.sk-toggleable__control:checked~label.sk-toggleable__label {\n",
       "  /* unfitted */\n",
       "  background-color: var(--sklearn-color-unfitted-level-2);\n",
       "}\n",
       "\n",
       "#sk-container-id-1 div.sk-estimator.fitted input.sk-toggleable__control:checked~label.sk-toggleable__label {\n",
       "  /* fitted */\n",
       "  background-color: var(--sklearn-color-fitted-level-2);\n",
       "}\n",
       "\n",
       "#sk-container-id-1 div.sk-label label.sk-toggleable__label,\n",
       "#sk-container-id-1 div.sk-label label {\n",
       "  /* The background is the default theme color */\n",
       "  color: var(--sklearn-color-text-on-default-background);\n",
       "}\n",
       "\n",
       "/* On hover, darken the color of the background */\n",
       "#sk-container-id-1 div.sk-label:hover label.sk-toggleable__label {\n",
       "  color: var(--sklearn-color-text);\n",
       "  background-color: var(--sklearn-color-unfitted-level-2);\n",
       "}\n",
       "\n",
       "/* Label box, darken color on hover, fitted */\n",
       "#sk-container-id-1 div.sk-label.fitted:hover label.sk-toggleable__label.fitted {\n",
       "  color: var(--sklearn-color-text);\n",
       "  background-color: var(--sklearn-color-fitted-level-2);\n",
       "}\n",
       "\n",
       "/* Estimator label */\n",
       "\n",
       "#sk-container-id-1 div.sk-label label {\n",
       "  font-family: monospace;\n",
       "  font-weight: bold;\n",
       "  display: inline-block;\n",
       "  line-height: 1.2em;\n",
       "}\n",
       "\n",
       "#sk-container-id-1 div.sk-label-container {\n",
       "  text-align: center;\n",
       "}\n",
       "\n",
       "/* Estimator-specific */\n",
       "#sk-container-id-1 div.sk-estimator {\n",
       "  font-family: monospace;\n",
       "  border: 1px dotted var(--sklearn-color-border-box);\n",
       "  border-radius: 0.25em;\n",
       "  box-sizing: border-box;\n",
       "  margin-bottom: 0.5em;\n",
       "  /* unfitted */\n",
       "  background-color: var(--sklearn-color-unfitted-level-0);\n",
       "}\n",
       "\n",
       "#sk-container-id-1 div.sk-estimator.fitted {\n",
       "  /* fitted */\n",
       "  background-color: var(--sklearn-color-fitted-level-0);\n",
       "}\n",
       "\n",
       "/* on hover */\n",
       "#sk-container-id-1 div.sk-estimator:hover {\n",
       "  /* unfitted */\n",
       "  background-color: var(--sklearn-color-unfitted-level-2);\n",
       "}\n",
       "\n",
       "#sk-container-id-1 div.sk-estimator.fitted:hover {\n",
       "  /* fitted */\n",
       "  background-color: var(--sklearn-color-fitted-level-2);\n",
       "}\n",
       "\n",
       "/* Specification for estimator info (e.g. \"i\" and \"?\") */\n",
       "\n",
       "/* Common style for \"i\" and \"?\" */\n",
       "\n",
       ".sk-estimator-doc-link,\n",
       "a:link.sk-estimator-doc-link,\n",
       "a:visited.sk-estimator-doc-link {\n",
       "  float: right;\n",
       "  font-size: smaller;\n",
       "  line-height: 1em;\n",
       "  font-family: monospace;\n",
       "  background-color: var(--sklearn-color-background);\n",
       "  border-radius: 1em;\n",
       "  height: 1em;\n",
       "  width: 1em;\n",
       "  text-decoration: none !important;\n",
       "  margin-left: 1ex;\n",
       "  /* unfitted */\n",
       "  border: var(--sklearn-color-unfitted-level-1) 1pt solid;\n",
       "  color: var(--sklearn-color-unfitted-level-1);\n",
       "}\n",
       "\n",
       ".sk-estimator-doc-link.fitted,\n",
       "a:link.sk-estimator-doc-link.fitted,\n",
       "a:visited.sk-estimator-doc-link.fitted {\n",
       "  /* fitted */\n",
       "  border: var(--sklearn-color-fitted-level-1) 1pt solid;\n",
       "  color: var(--sklearn-color-fitted-level-1);\n",
       "}\n",
       "\n",
       "/* On hover */\n",
       "div.sk-estimator:hover .sk-estimator-doc-link:hover,\n",
       ".sk-estimator-doc-link:hover,\n",
       "div.sk-label-container:hover .sk-estimator-doc-link:hover,\n",
       ".sk-estimator-doc-link:hover {\n",
       "  /* unfitted */\n",
       "  background-color: var(--sklearn-color-unfitted-level-3);\n",
       "  color: var(--sklearn-color-background);\n",
       "  text-decoration: none;\n",
       "}\n",
       "\n",
       "div.sk-estimator.fitted:hover .sk-estimator-doc-link.fitted:hover,\n",
       ".sk-estimator-doc-link.fitted:hover,\n",
       "div.sk-label-container:hover .sk-estimator-doc-link.fitted:hover,\n",
       ".sk-estimator-doc-link.fitted:hover {\n",
       "  /* fitted */\n",
       "  background-color: var(--sklearn-color-fitted-level-3);\n",
       "  color: var(--sklearn-color-background);\n",
       "  text-decoration: none;\n",
       "}\n",
       "\n",
       "/* Span, style for the box shown on hovering the info icon */\n",
       ".sk-estimator-doc-link span {\n",
       "  display: none;\n",
       "  z-index: 9999;\n",
       "  position: relative;\n",
       "  font-weight: normal;\n",
       "  right: .2ex;\n",
       "  padding: .5ex;\n",
       "  margin: .5ex;\n",
       "  width: min-content;\n",
       "  min-width: 20ex;\n",
       "  max-width: 50ex;\n",
       "  color: var(--sklearn-color-text);\n",
       "  box-shadow: 2pt 2pt 4pt #999;\n",
       "  /* unfitted */\n",
       "  background: var(--sklearn-color-unfitted-level-0);\n",
       "  border: .5pt solid var(--sklearn-color-unfitted-level-3);\n",
       "}\n",
       "\n",
       ".sk-estimator-doc-link.fitted span {\n",
       "  /* fitted */\n",
       "  background: var(--sklearn-color-fitted-level-0);\n",
       "  border: var(--sklearn-color-fitted-level-3);\n",
       "}\n",
       "\n",
       ".sk-estimator-doc-link:hover span {\n",
       "  display: block;\n",
       "}\n",
       "\n",
       "/* \"?\"-specific style due to the `<a>` HTML tag */\n",
       "\n",
       "#sk-container-id-1 a.estimator_doc_link {\n",
       "  float: right;\n",
       "  font-size: 1rem;\n",
       "  line-height: 1em;\n",
       "  font-family: monospace;\n",
       "  background-color: var(--sklearn-color-background);\n",
       "  border-radius: 1rem;\n",
       "  height: 1rem;\n",
       "  width: 1rem;\n",
       "  text-decoration: none;\n",
       "  /* unfitted */\n",
       "  color: var(--sklearn-color-unfitted-level-1);\n",
       "  border: var(--sklearn-color-unfitted-level-1) 1pt solid;\n",
       "}\n",
       "\n",
       "#sk-container-id-1 a.estimator_doc_link.fitted {\n",
       "  /* fitted */\n",
       "  border: var(--sklearn-color-fitted-level-1) 1pt solid;\n",
       "  color: var(--sklearn-color-fitted-level-1);\n",
       "}\n",
       "\n",
       "/* On hover */\n",
       "#sk-container-id-1 a.estimator_doc_link:hover {\n",
       "  /* unfitted */\n",
       "  background-color: var(--sklearn-color-unfitted-level-3);\n",
       "  color: var(--sklearn-color-background);\n",
       "  text-decoration: none;\n",
       "}\n",
       "\n",
       "#sk-container-id-1 a.estimator_doc_link.fitted:hover {\n",
       "  /* fitted */\n",
       "  background-color: var(--sklearn-color-fitted-level-3);\n",
       "}\n",
       "</style><div id=\"sk-container-id-1\" class=\"sk-top-container\"><div class=\"sk-text-repr-fallback\"><pre>GridSearchCV(cv=5,\n",
       "             estimator=MLPClassifier(alpha=0.0, batch_size=128, max_iter=400,\n",
       "                                     momentum=0, solver=&#x27;sgd&#x27;,\n",
       "                                     validation_fraction=0.2),\n",
       "             param_grid={&#x27;hidden_layer_sizes&#x27;: [(128, 32), (128, 64),\n",
       "                                                (128, 128), (128, 256)],\n",
       "                         &#x27;learning_rate_init&#x27;: [0.001, 0.01, 0.1, 1]},\n",
       "             verbose=2)</pre><b>In a Jupyter environment, please rerun this cell to show the HTML representation or trust the notebook. <br />On GitHub, the HTML representation is unable to render, please try loading this page with nbviewer.org.</b></div><div class=\"sk-container\" hidden><div class=\"sk-item sk-dashed-wrapped\"><div class=\"sk-label-container\"><div class=\"sk-label fitted sk-toggleable\"><input class=\"sk-toggleable__control sk-hidden--visually\" id=\"sk-estimator-id-1\" type=\"checkbox\" ><label for=\"sk-estimator-id-1\" class=\"sk-toggleable__label fitted sk-toggleable__label-arrow fitted\">&nbsp;&nbsp;GridSearchCV<a class=\"sk-estimator-doc-link fitted\" rel=\"noreferrer\" target=\"_blank\" href=\"https://scikit-learn.org/1.4/modules/generated/sklearn.model_selection.GridSearchCV.html\">?<span>Documentation for GridSearchCV</span></a><span class=\"sk-estimator-doc-link fitted\">i<span>Fitted</span></span></label><div class=\"sk-toggleable__content fitted\"><pre>GridSearchCV(cv=5,\n",
       "             estimator=MLPClassifier(alpha=0.0, batch_size=128, max_iter=400,\n",
       "                                     momentum=0, solver=&#x27;sgd&#x27;,\n",
       "                                     validation_fraction=0.2),\n",
       "             param_grid={&#x27;hidden_layer_sizes&#x27;: [(128, 32), (128, 64),\n",
       "                                                (128, 128), (128, 256)],\n",
       "                         &#x27;learning_rate_init&#x27;: [0.001, 0.01, 0.1, 1]},\n",
       "             verbose=2)</pre></div> </div></div><div class=\"sk-parallel\"><div class=\"sk-parallel-item\"><div class=\"sk-item\"><div class=\"sk-label-container\"><div class=\"sk-label fitted sk-toggleable\"><input class=\"sk-toggleable__control sk-hidden--visually\" id=\"sk-estimator-id-2\" type=\"checkbox\" ><label for=\"sk-estimator-id-2\" class=\"sk-toggleable__label fitted sk-toggleable__label-arrow fitted\">estimator: MLPClassifier</label><div class=\"sk-toggleable__content fitted\"><pre>MLPClassifier(alpha=0.0, batch_size=128, max_iter=400, momentum=0, solver=&#x27;sgd&#x27;,\n",
       "              validation_fraction=0.2)</pre></div> </div></div><div class=\"sk-serial\"><div class=\"sk-item\"><div class=\"sk-estimator fitted sk-toggleable\"><input class=\"sk-toggleable__control sk-hidden--visually\" id=\"sk-estimator-id-3\" type=\"checkbox\" ><label for=\"sk-estimator-id-3\" class=\"sk-toggleable__label fitted sk-toggleable__label-arrow fitted\">&nbsp;MLPClassifier<a class=\"sk-estimator-doc-link fitted\" rel=\"noreferrer\" target=\"_blank\" href=\"https://scikit-learn.org/1.4/modules/generated/sklearn.neural_network.MLPClassifier.html\">?<span>Documentation for MLPClassifier</span></a></label><div class=\"sk-toggleable__content fitted\"><pre>MLPClassifier(alpha=0.0, batch_size=128, max_iter=400, momentum=0, solver=&#x27;sgd&#x27;,\n",
       "              validation_fraction=0.2)</pre></div> </div></div></div></div></div></div></div></div></div>"
      ],
      "text/plain": [
       "GridSearchCV(cv=5,\n",
       "             estimator=MLPClassifier(alpha=0.0, batch_size=128, max_iter=400,\n",
       "                                     momentum=0, solver='sgd',\n",
       "                                     validation_fraction=0.2),\n",
       "             param_grid={'hidden_layer_sizes': [(128, 32), (128, 64),\n",
       "                                                (128, 128), (128, 256)],\n",
       "                         'learning_rate_init': [0.001, 0.01, 0.1, 1]},\n",
       "             verbose=2)"
      ]
     },
     "execution_count": 10,
     "metadata": {},
     "output_type": "execute_result"
    }
   ],
   "source": [
    "#Hyperparameter optimization\n",
    "\"\"\"We might be able to use the scikit-learn MLP implementation to find out which model parameters are ideal.\n",
    "In this way, we perform a grid search of all possible combinations, and then we basically report the one that's the best. Then, using the best\n",
    "model structure from the scikit-learn MLP implementation, we can train our MLP implementation and see if the accuracy is similar.\n",
    "\n",
    "We can also try and have our MLP implementation implement all the method required when passed to GridSearchCV so that GridSearchCV can be used\n",
    "directly with out MLP implementation.\n",
    "\"\"\"\n",
    "\n",
    "\n",
    "from sklearn.neural_network import MLPClassifier\n",
    "from sklearn.model_selection import GridSearchCV\n",
    "\n",
    "param_grid = {\n",
    "    'hidden_layer_sizes': [(128,32), (128,64), (128,128), (128,256)],  # Single layer with varying sizes\n",
    "    'learning_rate_init': [0.001, 0.01, 0.1, 1]\n",
    "}\n",
    "\n",
    "#No regularization alpha = 0.0\n",
    "scimlp = MLPClassifier(activation='relu', solver='sgd', alpha=0.0, batch_size=128, max_iter=400, momentum=0, validation_fraction=0.2)\n",
    "grid_search = GridSearchCV(scimlp, param_grid, cv=5, verbose=2)  #cv is K-fold cross validation, verbose is amount of detail printed to console\n",
    "grid_search.fit(X_train, y_train)\n",
    "\n",
    "\n"
   ]
  },
  {
   "cell_type": "code",
   "execution_count": 11,
   "metadata": {},
   "outputs": [
    {
     "name": "stdout",
     "output_type": "stream",
     "text": [
      "+--------------------+--------------------+----------------------+-----------------------+--------------------------+--------------------------+-----------------------------------------------------------------+---------------------+----------------------+----------------------+----------------------+----------------------+----------------------+------------------------+-----------------+\n",
      "|   mean_fit_time    |    std_fit_time    |   mean_score_time    |     std_score_time    | param_hidden_layer_sizes | param_learning_rate_init |                              params                             |  split0_test_score  |  split1_test_score   |  split2_test_score   |  split3_test_score   |  split4_test_score   |   mean_test_score    |     std_test_score     | rank_test_score |\n",
      "+--------------------+--------------------+----------------------+-----------------------+--------------------------+--------------------------+-----------------------------------------------------------------+---------------------+----------------------+----------------------+----------------------+----------------------+----------------------+------------------------+-----------------+\n",
      "| 266.4444709777832  | 39.41572878326674  | 0.027663660049438477 |  0.007814425863440054 |        (128, 32)         |          0.001           |  {'hidden_layer_sizes': (128, 32), 'learning_rate_init': 0.001} |  0.889819704971772  |  0.8523037698051357  |  0.8719723183391004  |  0.8827171735567292  |  0.8925514478237115  |  0.8778728828992899  |  0.014630448963694682  |        11       |\n",
      "| 155.51421461105346 | 11.741514118089118 |  0.0293123722076416  |  0.007910323185797877 |        (128, 32)         |           0.01           |  {'hidden_layer_sizes': (128, 32), 'learning_rate_init': 0.01}  |         1.0         |         1.0          |         1.0          |  0.9998178838098707  |         1.0          |  0.9999635767619741  | 7.284647605172445e-05  |        2        |\n",
      "| 23.09166955947876  | 5.864265536897438  | 0.022151660919189454 |  0.006920290576974559 |        (128, 32)         |           0.1            |   {'hidden_layer_sizes': (128, 32), 'learning_rate_init': 0.1}  |  0.8116918594063012 |  0.6938626843926425  |  0.863959205973411   |  0.7253687852850118  |  0.6059005645601894  |  0.7401566199235112  |  0.09036688300749797   |        12       |\n",
      "| 10.007001638412476 | 2.2292529553225786 | 0.03278665542602539  | 0.0036392087125214365 |        (128, 32)         |            1             |    {'hidden_layer_sizes': (128, 32), 'learning_rate_init': 1}   | 0.04643962848297214 | 0.046621744673101435 |  0.0438900018211619  | 0.04716809324348935  | 0.045164815152067016 | 0.04585685667455837  | 0.0011824937592968814  |        15       |\n",
      "| 258.70721797943116 | 7.507605431769108  | 0.025730228424072264 |  0.006057233816363244 |        (128, 64)         |          0.001           |  {'hidden_layer_sizes': (128, 64), 'learning_rate_init': 0.001} |  0.8912766344928064 |  0.8949189582953925  |  0.9029320706610817  |  0.9100346020761245  |  0.8949189582953925  |  0.8988162447641596  |  0.006782550704209405  |        10       |\n",
      "|  180.165030002594  | 33.25505471094717  | 0.029486370086669923 |  0.010946753986434734 |        (128, 64)         |           0.01           |  {'hidden_layer_sizes': (128, 64), 'learning_rate_init': 0.01}  |         1.0         |         1.0          |         1.0          |  0.9996357676197414  |         1.0          |  0.9999271535239483  | 0.0001456929521034489  |        3        |\n",
      "| 51.51961793899536  | 4.062404266661879  | 0.02880411148071289  |  0.007032025134241172 |        (128, 64)         |           0.1            |   {'hidden_layer_sizes': (128, 64), 'learning_rate_init': 0.1}  |         1.0         |         1.0          |         1.0          |         1.0          |         1.0          |         1.0          |          0.0           |        1        |\n",
      "| 11.943355894088745 | 3.0957195533554414 | 0.02997879981994629  |  0.006763209510439251 |        (128, 64)         |            1             |    {'hidden_layer_sizes': (128, 64), 'learning_rate_init': 1}   | 0.04643962848297214 | 0.046621744673101435 | 0.046621744673101435 | 0.046621744673101435 | 0.04716809324348935  | 0.046694591149153156 | 0.00024703441934530293 |        13       |\n",
      "| 328.8132911205292  | 26.867515632708372 |  0.0274871826171875  |  0.009724842386017913 |        (128, 128)        |          0.001           | {'hidden_layer_sizes': (128, 128), 'learning_rate_init': 0.001} |  0.901839373520306  |  0.9105809506465125  |  0.909670369695866   |  0.9102167182662538  |  0.9149517392096157  |  0.9094518302677107  |  0.004245143626831809  |        8        |\n",
      "| 254.06662940979004 | 85.34886048549005  | 0.03536248207092285  |  0.01509383023102914  |        (128, 128)        |           0.01           |  {'hidden_layer_sizes': (128, 128), 'learning_rate_init': 0.01} |         1.0         |  0.9998178838098707  |         1.0          |  0.9998178838098707  |         1.0          |  0.9999271535239483  | 8.921834794329974e-05  |        3        |\n",
      "| 53.60001306533813  | 9.535273218051787  | 0.04152512550354004  |  0.013038550628289269 |        (128, 128)        |           0.1            |  {'hidden_layer_sizes': (128, 128), 'learning_rate_init': 0.1}  |         1.0         |         1.0          |  0.9998178838098707  |         1.0          |  0.9446366782006921  |  0.9888909124021126  |  0.022127229517825985  |        6        |\n",
      "| 29.664473628997804 | 9.734413189437845  | 0.04846906661987305  |  0.013011478643780938 |        (128, 128)        |            1             |   {'hidden_layer_sizes': (128, 128), 'learning_rate_init': 1}   | 0.04534693134219632 | 0.046621744673101435 | 0.04461846658167911  | 0.04716809324348935  | 0.046621744673101435 | 0.04607539610271353  | 0.0009427921402691522  |        14       |\n",
      "| 457.0341380596161  | 139.13294921508637 | 0.045602941513061525 |  0.01761200676179279  |        (128, 256)        |          0.001           | {'hidden_layer_sizes': (128, 256), 'learning_rate_init': 0.001} |  0.8927335640138409 |  0.913312693498452   |  0.9082134401748315  |  0.9089419049353488  |  0.9147696230194864  |  0.9075942451283918  |  0.007838700559279545  |        9        |\n",
      "| 431.87456493377687 |  77.4084000205928  |  0.0677110195159912  |  0.02785507209869409  |        (128, 256)        |           0.01           |  {'hidden_layer_sizes': (128, 256), 'learning_rate_init': 0.01} |  0.9998178838098707 |  0.9998178838098707  |         1.0          |  0.9998178838098707  |         1.0          |  0.9998907302859225  | 8.921834794329974e-05  |        5        |\n",
      "| 55.29815154075622  | 15.911969486988285 |  0.0449373722076416  |  0.008262926140944317 |        (128, 256)        |           0.1            |  {'hidden_layer_sizes': (128, 256), 'learning_rate_init': 0.1}  |         1.0         |         1.0          |         1.0          |  0.7745401566199235  |         1.0          |  0.9549080313239846  |   0.0901839373520306   |        7        |\n",
      "| 20.53022508621216  | 6.680423936387392  | 0.06001205444335937  |  0.018371288931115906 |        (128, 256)        |            1             |   {'hidden_layer_sizes': (128, 256), 'learning_rate_init': 1}   | 0.04534693134219632 | 0.043707885631032596 | 0.04716809324348935  | 0.046621744673101435 | 0.045164815152067016 | 0.045601894008377344 | 0.0012113122672238867  |        16       |\n",
      "+--------------------+--------------------+----------------------+-----------------------+--------------------------+--------------------------+-----------------------------------------------------------------+---------------------+----------------------+----------------------+----------------------+----------------------+----------------------+------------------------+-----------------+\n",
      "<bound method BaseEstimator.get_params of MLPClassifier(alpha=0.0, batch_size=128, hidden_layer_sizes=(128, 64),\n",
      "              learning_rate_init=0.1, max_iter=400, momentum=0, solver='sgd',\n",
      "              validation_fraction=0.2)>\n",
      "test accuracy: 0.7826268823201339\n"
     ]
    }
   ],
   "source": [
    "from prettytable import PrettyTable\n",
    "from sklearn.metrics import accuracy_score\n",
    "\n",
    "table = PrettyTable()\n",
    "\n",
    "for col in grid_search.cv_results_:\n",
    "    table.add_column(col, grid_search.cv_results_[col])\n",
    "\n",
    "print(table)\n",
    "# data = table.get_string()\n",
    "# with open('GridSearch_1HiddenLayer.txt', 'w') as f:\n",
    "#     f.write(data)\n",
    "\n",
    "best_model = grid_search.best_estimator_\n",
    "print(best_model.get_params)\n",
    "best_model.fit(X_train, y_train)\n",
    "test_score = best_model.score(X_test, y_test)\n",
    "print(\"test accuracy:\", test_score)"
   ]
  },
  {
   "cell_type": "code",
   "execution_count": 13,
   "metadata": {},
   "outputs": [
    {
     "name": "stderr",
     "output_type": "stream",
     "text": [
      "100%|██████████| 100/100 [36:50<00:00, 22.11s/it]\n"
     ]
    },
    {
     "name": "stdout",
     "output_type": "stream",
     "text": [
      "ONE HIDDEN LAYER 128 64\n"
     ]
    },
    {
     "data": {
      "image/png": "[encoded data removed]",
      "text/plain": [
       "<Figure size 640x480 with 1 Axes>"
      ]
     },
     "metadata": {},
     "output_type": "display_data"
    },
    {
     "name": "stdout",
     "output_type": "stream",
     "text": [
      "Train accuracy no validation = 89.35%\n",
      "Test accuracy no validation = 47.82%\n",
      "Train accuracy with validation = 89.35%\n",
      "Test accuracy with validation = 47.82%\n"
     ]
    }
   ],
   "source": [
    "HIDDEN_UNITS_1 = 128\n",
    "HIDDEN_UNITS_2 = 128\n",
    "mlp_two_32_32 = MLP(\n",
    "    LinearLayer(784, HIDDEN_UNITS_1),\n",
    "    ReLULayer(),\n",
    "    LinearLayer(HIDDEN_UNITS_1, HIDDEN_UNITS_2),\n",
    "    ReLULayer(),\n",
    "    LinearLayer(HIDDEN_UNITS_2, 25),\n",
    "    SoftmaxOutputLayer()\n",
    ")\n",
    "\n",
    "optimizer = GradientDescentOptimizer(mlp_two_32_32, 1e-3)\n",
    "gradient_steps = 100\n",
    "best_val_params_32_32, training_losses_32_32, validation_losses_32_32 = train(mlp_two_32_32, optimizer, X_train, y_train, gradient_steps)\n",
    "best_no_val_params_32_32 = mlp_two_32_32.get_params()\n",
    "print(\"ONE HIDDEN LAYER 128 64\")\n",
    "#Looks bad because not enough parameters probably\n",
    "plot_losses(training_losses_32_32, validation_losses_32_32)\n",
    "two_32_32_stats = get_accuracy_stats(mlp_two_32_32, best_no_val_params_32_32, best_no_val_params_32_32, X_test, y_test, X_train, y_train)"
   ]
  },
  {
   "cell_type": "code",
   "execution_count": null,
   "metadata": {},
   "outputs": [
    {
     "name": "stdout",
     "output_type": "stream",
     "text": [
      "ONE HIDDEN LAYER 32 32\n"
     ]
    },
    {
     "data": {
      "image/png": "[encoded data removed]",
      "text/plain": [
       "<Figure size 640x480 with 1 Axes>"
      ]
     },
     "metadata": {},
     "output_type": "display_data"
    },
    {
     "name": "stdout",
     "output_type": "stream",
     "text": [
      "Train accuracy no validation = 6.04%\n",
      "Test accuracy no validation = 2.94%\n",
      "Train accuracy with validation = 6.04%\n",
      "Test accuracy with validation = 2.94%\n"
     ]
    }
   ],
   "source": []
  },
  {
   "cell_type": "code",
   "execution_count": null,
   "metadata": {},
   "outputs": [],
   "source": [
    "#TODO Continue the testing...."
   ]
  },
  {
   "cell_type": "markdown",
   "metadata": {},
   "source": [
    "\"\n",
    "\n",
    "\n",
    "\n",
    "\n",
    "\n",
    "\n",
    "\n",
    "\n",
    "\n",
    "\n",
    "\n",
    "\n",
    "\n",
    "\""
   ]
  },
  {
   "cell_type": "markdown",
   "metadata": {},
   "source": [
    "<h1> Task 3.2 - Sigmoid and Leaky ReLU</h1>"
   ]
  },
  {
   "cell_type": "code",
   "execution_count": null,
   "metadata": {},
   "outputs": [],
   "source": [
    "class LeakyReLULayer(NeuralNetLayer):\n",
    "    def __init__(self, negative_slope=0.1): #Same terminology as the pytorch documentation: https://pytorch.org/docs/stable/generated/torch.nn.LeakyReLU.html\n",
    "        super().__init__()\n",
    "        self.negative_slope = negative_slope\n",
    "    \n",
    "    def forward(self, x):\n",
    "        self.gradient = np.where(x>0, 1.0, self.negative_slope)\n",
    "        return np.where(x>0.0, x, self.negative_slope*x)\n",
    "    \n",
    "    def backward(self, gradient):\n",
    "        assert self.gradient is not None, \"Must call forward before backward\"\n",
    "        return gradient * self.gradient\n",
    "\n",
    "class SigmoidLayer(NeuralNetLayer):\n",
    "    def __init__(self):\n",
    "        super().__init__()\n",
    "        self.output = None\n",
    "\n",
    "    def forward(self, x):\n",
    "        self.output = 1/(1+np.exp(-x))\n",
    "        #Gradient can conveniently be expressed as sigmoid(x)*(1-sigmoid(x)), ie. self.output*(1-self.output)\n",
    "        self.gradient = self.output*(1-self.output)\n",
    "        return self.output\n",
    "    \n",
    "    def backward(self, gradient):\n",
    "        assert self.output is not None, \"Must call forward before backward\"\n",
    "        return gradient * self.gradient"
   ]
  },
  {
   "cell_type": "markdown",
   "metadata": {},
   "source": [
    "<h3> Leaky ReLU </h3>"
   ]
  },
  {
   "cell_type": "code",
   "execution_count": null,
   "metadata": {},
   "outputs": [],
   "source": [
    "#Example model, choose params based on testing\n",
    "HIDDEN_UNITS_1 = None\n",
    "HIDDEN_UNITS_2 = None\n",
    "mlp_leaky = MLP(\n",
    "     LinearLayer(784, HIDDEN_UNITS_1),\n",
    "    LeakyReLULayer(),\n",
    "    LinearLayer(HIDDEN_UNITS_1, HIDDEN_UNITS_2),\n",
    "    LeakyReLULayer(),\n",
    "    LinearLayer(HIDDEN_UNITS_2, 25),\n",
    "    SoftmaxOutputLayer()\n",
    ")\n",
    "optimizer = GradientDescentOptimizer(mlp_leaky, 1e-1)\n",
    "gradient_steps = 200\n",
    "best_val_params_leaky, training_losses_leaky, validation_losses_leaky = train(mlp_leaky, optimizer, X_train, y_train, gradient_steps)\n",
    "best_no_val_params_leaky = mlp_leaky.get_params()"
   ]
  },
  {
   "cell_type": "code",
   "execution_count": null,
   "metadata": {},
   "outputs": [],
   "source": [
    "print(\"LEAKY RELU\")\n",
    "plot_losses(training_losses_leaky, validation_losses_leaky)\n",
    "leaky_stats = get_accuracy_stats(mlp_leaky, best_no_val_params_leaky, best_val_params_leaky, X_test, y_test, X_train, y_train)"
   ]
  },
  {
   "cell_type": "markdown",
   "metadata": {},
   "source": [
    "<h3> Sigmoid Activation </h3>"
   ]
  },
  {
   "cell_type": "code",
   "execution_count": null,
   "metadata": {},
   "outputs": [],
   "source": [
    "#Example Model, choose params based on testing\n",
    "HIDDEN_UNITS_1 = None\n",
    "HIDDEN_UNITS_2 = None\n",
    "mlp_sigmoid = MLP(\n",
    "     LinearLayer(784, HIDDEN_UNITS_1),\n",
    "    SigmoidLayer(),\n",
    "    LinearLayer(HIDDEN_UNITS_1, HIDDEN_UNITS_2),\n",
    "    SigmoidLayer(),\n",
    "    LinearLayer(HIDDEN_UNITS_2, 25),\n",
    "    SoftmaxOutputLayer()\n",
    ")\n",
    "optimizer = GradientDescentOptimizer(mlp_sigmoid, 1e-1)\n",
    "gradient_steps = 200\n",
    "best_val_params_sigmoid, training_losses_sigmoid, validation_losses_sigmoid = train(mlp_sigmoid, optimizer, X_train, y_train, gradient_steps)\n",
    "best_no_val_params_sigmoid = mlp_sigmoid.get_params()"
   ]
  },
  {
   "cell_type": "code",
   "execution_count": null,
   "metadata": {},
   "outputs": [],
   "source": [
    "print(\"SIGMOID ACTIVATION\")\n",
    "plot_losses(training_losses_sigmoid, validation_losses_sigmoid)\n",
    "sigmoid_stats = get_accuracy_stats(mlp_sigmoid, best_no_val_params_sigmoid, best_val_params_sigmoid, X_test, y_test, X_train, y_train)"
   ]
  },
  {
   "cell_type": "markdown",
   "metadata": {},
   "source": [
    "<h1> Task 3.3 </h1>\n",
    "<h3> TODO Implement the regularization. Shouldn't affect forward pass, but backwards pass changes bc the cost function changes\""
   ]
  },
  {
   "cell_type": "markdown",
   "metadata": {},
   "source": [
    "<h1>Task 3.4 </h1>"
   ]
  },
  {
   "cell_type": "markdown",
   "metadata": {},
   "source": [
    "Using existing libraries such as Keras/TensorFlow or PyTorch, create a Convolutional\n",
    "Neural Network (ConvNet) with 3 convolutional and 2 fully connected layers. You are free\n",
    "in your choice of the hyperparameters of the convolutional layers. Experiment again with\n",
    "using {32,64,128,256} hidden units in the fully connected layers and choose the best one.\n",
    "Also, set the activations in all of the layers to be ReLU. Train this ConvNet on the Sign\n",
    "Language MNIST dataset. Does using a ConvNet increase/decrease the accuracy compared to using MLPs? Provide comments on your results."
   ]
  },
  {
   "cell_type": "code",
   "execution_count": null,
   "metadata": {},
   "outputs": [],
   "source": [
    "import torch.nn as nn\n",
    "import torch.nn.functional as F\n",
    "\n",
    "class ConvNet(nn.Module):\n",
    "    def __init__(self, number_of_hidden_units):\n",
    "        super(ConvNet, self).__init__()\n",
    "\n",
    "        #convolution -> input image is 28x28x1 (Width x Depth x Channels)\n",
    "        #output dimensions = (xh + 2ph - fh + 1) x (xw + 2pw - fw +1)\n",
    "        self.conv1 = nn.Conv2d(in_channels=1, out_channels=32, kernel_size=3, padding=1) #output -> (28 + 2*1 - 3 + 1) = 28x28x32\n",
    "        self.conv2 = nn.Conv2d(in_channels=32, out_channels=64, kernel_size=3, padding=1) #output -> 28x28x64\n",
    "        self.conv3 = nn.Conv2d(in_channels=64, out_channels=128, kernel_size=3, padding=1) #output -> 28x28x128\n",
    "\n",
    "        #At this point if we flatten the image to vector representation for the linear layer, our input dimension would be 28*28*128=100,352 which is insanely large\n",
    "        #We can apply max pooling, but we haven't really seen it in class I don't think unless I'm just behind on lectures\n",
    "        #Its really quite simple, and because of the autograd provided by pytorch we don't have to think too hard about the math\n",
    "\n",
    "        self.pool = nn.MaxPool2d(kernel_size=2, stride=2) #Applying this effectively halves both the width and the height -> a 2x2 square in the orginal image is pooled to only the maximum value so 2x2 becomes 1. Stride of two allows this to never overlap\n",
    "\n",
    "        #if we anticipate applying max pooling after conv1 then that yields 14x14x32\n",
    "        #if we apply it after conv2 then that yields 7x7x64\n",
    "        #So our input to the linear fully connected layers is 7x7x128 (after convolution 3) -> 128 separate 7x7 images (Feature maps)\n",
    "        self.fc1 = nn.Linear(128*7*7, number_of_hidden_units)\n",
    "        self.fc2 = nn.Linear(number_of_hidden_units, 25) #25 output units as previous (25 classes->really only 24 because there's a 0 examples of J and z is just chopped off the end)\n",
    "    \n",
    "    def forward(self, x, apply_softmax = False):\n",
    "        x = self.conv1(x)\n",
    "        x = F.relu(x)\n",
    "        x = self.pool(x)\n",
    "\n",
    "        x = self.conv2(x)\n",
    "        x = F.relu(x)\n",
    "        x= self.pool(x)\n",
    "\n",
    "        x = self.conv3(x)\n",
    "        x = F.relu(x)\n",
    "\n",
    "        #Now we need to flatten the image to a vector representation\n",
    "        x = x.view(-1, 7*7*128) #-1 allows pytorch to infer the size (batch dimension), 7x7x128 is as discussed above\n",
    "\n",
    "        x = self.fc1(x)\n",
    "        x = F.relu(x)\n",
    "        x = self.fc2(x)\n",
    "\n",
    "        if apply_softmax: #We only apply softmax if we need to, nn.CrossEntropyLoss does this internally for efficiency. So we will call forward(x, True) when we want probabilities instead of logits\n",
    "            x = F.softmax(x, dim=1)\n",
    "\n",
    "        return x"
   ]
  },
  {
   "cell_type": "code",
   "execution_count": null,
   "metadata": {},
   "outputs": [],
   "source": [
    "from torch.utils.data import TensorDataset, DataLoader, random_split\n",
    "\n",
    "full_train_dataset = TensorDataset(X_train_tensor, y_train_tensor)\n",
    "test_dataset = TensorDataset(X_test_tensor, y_test_tensor)\n",
    "\n",
    "val_size = int(len(X_train_tensor)*0.2) #80:20 split\n",
    "train_size = len(X_train_tensor)-val_size\n",
    "\n",
    "train_dataset, val_dataset = random_split(full_train_dataset, [train_size, val_size])\n",
    "\n",
    "batch_size = 128\n",
    "\n",
    "train_loader = DataLoader(train_dataset, batch_size=batch_size, shuffle=True)\n",
    "val_loader = DataLoader(val_dataset, batch_size=batch_size, shuffle=False)\n",
    "test_loader = DataLoader(test_dataset, batch_size=batch_size, shuffle=False)\n",
    "\n",
    "number_of_hidden_units_TORCH = 64 #To change\n"
   ]
  },
  {
   "cell_type": "code",
   "execution_count": null,
   "metadata": {},
   "outputs": [
    {
     "name": "stdout",
     "output_type": "stream",
     "text": [
      "Epoch [1/300], Training Loss: 1.9519, Validation Loss: 0.7818\n",
      "Epoch [2/300], Training Loss: 0.4322, Validation Loss: 0.2152\n",
      "Epoch [3/300], Training Loss: 0.1130, Validation Loss: 0.0613\n",
      "Epoch [4/300], Training Loss: 0.0432, Validation Loss: 0.0399\n",
      "Epoch [5/300], Training Loss: 0.0131, Validation Loss: 0.0134\n",
      "Epoch [6/300], Training Loss: 0.0051, Validation Loss: 0.0036\n",
      "Epoch [7/300], Training Loss: 0.0023, Validation Loss: 0.0024\n",
      "Epoch [8/300], Training Loss: 0.0015, Validation Loss: 0.0027\n",
      "Epoch [9/300], Training Loss: 0.0011, Validation Loss: 0.0023\n",
      "Epoch [10/300], Training Loss: 0.0008, Validation Loss: 0.0015\n",
      "Epoch [11/300], Training Loss: 0.0006, Validation Loss: 0.0016\n",
      "Epoch [12/300], Training Loss: 0.0005, Validation Loss: 0.0019\n",
      "Epoch [13/300], Training Loss: 0.0004, Validation Loss: 0.0010\n",
      "Epoch [14/300], Training Loss: 0.0003, Validation Loss: 0.0011\n",
      "Epoch [15/300], Training Loss: 0.0003, Validation Loss: 0.0010\n",
      "Epoch [16/300], Training Loss: 0.0002, Validation Loss: 0.0013\n",
      "Epoch [17/300], Training Loss: 0.0002, Validation Loss: 0.0010\n",
      "Epoch [18/300], Training Loss: 0.0002, Validation Loss: 0.0013\n",
      "Epoch [19/300], Training Loss: 0.0001, Validation Loss: 0.0012\n",
      "Epoch [20/300], Training Loss: 0.0001, Validation Loss: 0.0009\n",
      "Epoch [21/300], Training Loss: 0.0001, Validation Loss: 0.0008\n",
      "Epoch [22/300], Training Loss: 0.0001, Validation Loss: 0.0011\n",
      "Epoch [23/300], Training Loss: 0.0001, Validation Loss: 0.0009\n",
      "Epoch [24/300], Training Loss: 0.0001, Validation Loss: 0.0011\n",
      "Epoch [25/300], Training Loss: 0.0001, Validation Loss: 0.0011\n",
      "Epoch [26/300], Training Loss: 0.0001, Validation Loss: 0.0009\n",
      "Epoch [27/300], Training Loss: 0.0000, Validation Loss: 0.0008\n",
      "Epoch [28/300], Training Loss: 0.0000, Validation Loss: 0.0008\n",
      "Epoch [29/300], Training Loss: 0.0000, Validation Loss: 0.0008\n",
      "Epoch [30/300], Training Loss: 0.0000, Validation Loss: 0.0010\n",
      "Epoch [31/300], Training Loss: 0.0000, Validation Loss: 0.0011\n",
      "Epoch [32/300], Training Loss: 0.0000, Validation Loss: 0.0008\n",
      "Epoch [33/300], Training Loss: 0.0000, Validation Loss: 0.0009\n",
      "Epoch [34/300], Training Loss: 0.0000, Validation Loss: 0.0008\n",
      "Epoch [35/300], Training Loss: 0.0000, Validation Loss: 0.0010\n",
      "Epoch [36/300], Training Loss: 0.0000, Validation Loss: 0.0011\n",
      "Epoch [37/300], Training Loss: 0.0000, Validation Loss: 0.0010\n",
      "Epoch [38/300], Training Loss: 0.0000, Validation Loss: 0.0010\n",
      "Epoch [39/300], Training Loss: 0.0000, Validation Loss: 0.0011\n",
      "Epoch [40/300], Training Loss: 0.0000, Validation Loss: 0.0010\n",
      "Epoch [41/300], Training Loss: 0.0000, Validation Loss: 0.0009\n",
      "Epoch [42/300], Training Loss: 0.0000, Validation Loss: 0.0010\n",
      "Epoch [43/300], Training Loss: 0.0000, Validation Loss: 0.0012\n",
      "Epoch [44/300], Training Loss: 0.0000, Validation Loss: 0.0011\n",
      "Epoch [45/300], Training Loss: 0.0000, Validation Loss: 0.0010\n",
      "Epoch [46/300], Training Loss: 0.0000, Validation Loss: 0.0010\n",
      "Epoch [47/300], Training Loss: 0.0000, Validation Loss: 0.0009\n",
      "Epoch [48/300], Training Loss: 0.0000, Validation Loss: 0.0012\n",
      "Epoch [49/300], Training Loss: 0.0000, Validation Loss: 0.0011\n",
      "Epoch [50/300], Training Loss: 0.0000, Validation Loss: 0.0010\n",
      "Epoch [51/300], Training Loss: 0.0000, Validation Loss: 0.0011\n",
      "Epoch [52/300], Training Loss: 0.0000, Validation Loss: 0.0011\n",
      "Epoch [53/300], Training Loss: 0.0000, Validation Loss: 0.0012\n",
      "Epoch [54/300], Training Loss: 0.0000, Validation Loss: 0.0010\n",
      "Epoch [55/300], Training Loss: 0.0000, Validation Loss: 0.0011\n",
      "Epoch [56/300], Training Loss: 0.0000, Validation Loss: 0.0011\n",
      "Epoch [57/300], Training Loss: 0.0000, Validation Loss: 0.0010\n",
      "Epoch [58/300], Training Loss: 0.0000, Validation Loss: 0.0011\n",
      "Epoch [59/300], Training Loss: 0.0000, Validation Loss: 0.0010\n",
      "Epoch [60/300], Training Loss: 0.0000, Validation Loss: 0.0011\n",
      "Epoch [61/300], Training Loss: 0.0000, Validation Loss: 0.0011\n",
      "Epoch [62/300], Training Loss: 0.0000, Validation Loss: 0.0013\n",
      "Epoch [63/300], Training Loss: 0.0000, Validation Loss: 0.0011\n",
      "Epoch [64/300], Training Loss: 0.0000, Validation Loss: 0.0013\n",
      "Epoch [65/300], Training Loss: 0.0000, Validation Loss: 0.0011\n",
      "Epoch [66/300], Training Loss: 0.0000, Validation Loss: 0.0010\n",
      "Epoch [67/300], Training Loss: 0.0000, Validation Loss: 0.0013\n",
      "Epoch [68/300], Training Loss: 0.0000, Validation Loss: 0.0012\n",
      "Epoch [69/300], Training Loss: 0.0000, Validation Loss: 0.0012\n",
      "Epoch [70/300], Training Loss: 0.0000, Validation Loss: 0.0011\n",
      "Epoch [71/300], Training Loss: 0.0000, Validation Loss: 0.0012\n",
      "Epoch [72/300], Training Loss: 0.0000, Validation Loss: 0.0012\n",
      "Epoch [73/300], Training Loss: 0.0000, Validation Loss: 0.0013\n",
      "Epoch [74/300], Training Loss: 0.0000, Validation Loss: 0.0012\n",
      "Epoch [75/300], Training Loss: 0.0000, Validation Loss: 0.0010\n",
      "Epoch [76/300], Training Loss: 0.0000, Validation Loss: 0.0012\n",
      "Epoch [77/300], Training Loss: 0.0000, Validation Loss: 0.0011\n",
      "Epoch [78/300], Training Loss: 0.0000, Validation Loss: 0.0011\n",
      "Epoch [79/300], Training Loss: 0.0000, Validation Loss: 0.0012\n",
      "Epoch [80/300], Training Loss: 0.0000, Validation Loss: 0.0012\n",
      "Epoch [81/300], Training Loss: 0.0000, Validation Loss: 0.0012\n",
      "Epoch [82/300], Training Loss: 0.0000, Validation Loss: 0.0011\n",
      "Epoch [83/300], Training Loss: 0.0000, Validation Loss: 0.0012\n",
      "Epoch [84/300], Training Loss: 0.0000, Validation Loss: 0.0012\n",
      "Epoch [85/300], Training Loss: 0.0000, Validation Loss: 0.0011\n",
      "Epoch [86/300], Training Loss: 0.0000, Validation Loss: 0.0012\n",
      "Epoch [87/300], Training Loss: 0.0000, Validation Loss: 0.0010\n",
      "Epoch [88/300], Training Loss: 0.0000, Validation Loss: 0.0013\n",
      "Epoch [89/300], Training Loss: 0.0000, Validation Loss: 0.0011\n",
      "Epoch [90/300], Training Loss: 0.0000, Validation Loss: 0.0013\n",
      "Epoch [91/300], Training Loss: 0.0000, Validation Loss: 0.0013\n",
      "Epoch [92/300], Training Loss: 0.0000, Validation Loss: 0.0011\n",
      "Epoch [93/300], Training Loss: 0.0000, Validation Loss: 0.0013\n",
      "Epoch [94/300], Training Loss: 0.0000, Validation Loss: 0.0010\n",
      "Epoch [95/300], Training Loss: 0.0000, Validation Loss: 0.0012\n",
      "Epoch [96/300], Training Loss: 0.0000, Validation Loss: 0.0011\n",
      "Epoch [97/300], Training Loss: 0.0000, Validation Loss: 0.0015\n",
      "Epoch [98/300], Training Loss: 0.0000, Validation Loss: 0.0012\n",
      "Epoch [99/300], Training Loss: 0.0000, Validation Loss: 0.0011\n",
      "Epoch [100/300], Training Loss: 0.0000, Validation Loss: 0.0012\n",
      "Epoch [101/300], Training Loss: 0.0000, Validation Loss: 0.0010\n",
      "Epoch [102/300], Training Loss: 0.0000, Validation Loss: 0.0009\n",
      "Epoch [103/300], Training Loss: 0.0000, Validation Loss: 0.0010\n",
      "Epoch [104/300], Training Loss: 0.0000, Validation Loss: 0.0010\n",
      "Epoch [105/300], Training Loss: 0.0000, Validation Loss: 0.0009\n",
      "Epoch [106/300], Training Loss: 0.0000, Validation Loss: 0.0011\n",
      "Epoch [107/300], Training Loss: 0.0000, Validation Loss: 0.0012\n",
      "Epoch [108/300], Training Loss: 0.0000, Validation Loss: 0.0012\n",
      "Epoch [109/300], Training Loss: 0.0000, Validation Loss: 0.0010\n",
      "Epoch [110/300], Training Loss: 0.0000, Validation Loss: 0.0012\n",
      "Epoch [111/300], Training Loss: 0.6083, Validation Loss: 1.1443\n",
      "Epoch [112/300], Training Loss: 0.1349, Validation Loss: 0.0124\n",
      "Epoch [113/300], Training Loss: 0.0065, Validation Loss: 0.0048\n",
      "Epoch [114/300], Training Loss: 0.0041, Validation Loss: 0.0326\n",
      "Epoch [115/300], Training Loss: 0.0081, Validation Loss: 0.0019\n",
      "Epoch [116/300], Training Loss: 0.0011, Validation Loss: 0.0014\n",
      "Epoch [117/300], Training Loss: 0.0008, Validation Loss: 0.0010\n",
      "Epoch [118/300], Training Loss: 0.0006, Validation Loss: 0.0008\n",
      "Epoch [119/300], Training Loss: 0.0005, Validation Loss: 0.0006\n",
      "Epoch [120/300], Training Loss: 0.0004, Validation Loss: 0.0005\n",
      "Epoch [121/300], Training Loss: 0.0003, Validation Loss: 0.0005\n",
      "Epoch [122/300], Training Loss: 0.0003, Validation Loss: 0.0004\n",
      "Epoch [123/300], Training Loss: 0.0002, Validation Loss: 0.0004\n",
      "Epoch [124/300], Training Loss: 0.0002, Validation Loss: 0.0003\n",
      "Epoch [125/300], Training Loss: 0.0002, Validation Loss: 0.0003\n",
      "Epoch [126/300], Training Loss: 0.0001, Validation Loss: 0.0002\n",
      "Epoch [127/300], Training Loss: 0.0001, Validation Loss: 0.0002\n",
      "Epoch [128/300], Training Loss: 0.0001, Validation Loss: 0.0002\n",
      "Epoch [129/300], Training Loss: 0.0001, Validation Loss: 0.0002\n",
      "Epoch [130/300], Training Loss: 0.0001, Validation Loss: 0.0002\n",
      "Epoch [131/300], Training Loss: 0.0001, Validation Loss: 0.0001\n",
      "Epoch [132/300], Training Loss: 0.0001, Validation Loss: 0.0001\n",
      "Epoch [133/300], Training Loss: 0.0001, Validation Loss: 0.0001\n",
      "Epoch [134/300], Training Loss: 0.0001, Validation Loss: 0.0001\n",
      "Epoch [135/300], Training Loss: 0.0001, Validation Loss: 0.0001\n",
      "Epoch [136/300], Training Loss: 0.0000, Validation Loss: 0.0001\n",
      "Epoch [137/300], Training Loss: 0.0000, Validation Loss: 0.0001\n",
      "Epoch [138/300], Training Loss: 0.0000, Validation Loss: 0.0001\n",
      "Epoch [139/300], Training Loss: 0.0000, Validation Loss: 0.0001\n",
      "Epoch [140/300], Training Loss: 0.0000, Validation Loss: 0.0001\n",
      "Epoch [141/300], Training Loss: 0.0000, Validation Loss: 0.0001\n",
      "Epoch [142/300], Training Loss: 0.0000, Validation Loss: 0.0001\n",
      "Epoch [143/300], Training Loss: 0.0000, Validation Loss: 0.0000\n",
      "Epoch [144/300], Training Loss: 0.0000, Validation Loss: 0.0000\n",
      "Epoch [145/300], Training Loss: 0.0000, Validation Loss: 0.0000\n",
      "Epoch [146/300], Training Loss: 0.0000, Validation Loss: 0.0000\n",
      "Epoch [147/300], Training Loss: 0.0000, Validation Loss: 0.0000\n",
      "Epoch [148/300], Training Loss: 0.0000, Validation Loss: 0.0000\n",
      "Epoch [149/300], Training Loss: 0.0000, Validation Loss: 0.0000\n",
      "Epoch [150/300], Training Loss: 0.0000, Validation Loss: 0.0000\n",
      "Epoch [151/300], Training Loss: 0.0000, Validation Loss: 0.0000\n",
      "Epoch [152/300], Training Loss: 0.0000, Validation Loss: 0.0000\n",
      "Epoch [153/300], Training Loss: 0.0000, Validation Loss: 0.0000\n",
      "Epoch [154/300], Training Loss: 0.0000, Validation Loss: 0.0000\n",
      "Epoch [155/300], Training Loss: 0.0000, Validation Loss: 0.0000\n",
      "Epoch [156/300], Training Loss: 0.0000, Validation Loss: 0.0000\n",
      "Epoch [157/300], Training Loss: 0.0000, Validation Loss: 0.0000\n",
      "Epoch [158/300], Training Loss: 0.0000, Validation Loss: 0.0000\n",
      "Epoch [159/300], Training Loss: 0.0000, Validation Loss: 0.0000\n",
      "Epoch [160/300], Training Loss: 0.0000, Validation Loss: 0.0000\n",
      "Epoch [161/300], Training Loss: 0.0000, Validation Loss: 0.0000\n",
      "Epoch [162/300], Training Loss: 0.0000, Validation Loss: 0.0000\n",
      "Epoch [163/300], Training Loss: 0.0000, Validation Loss: 0.0000\n",
      "Epoch [164/300], Training Loss: 0.0000, Validation Loss: 0.0000\n",
      "Epoch [165/300], Training Loss: 0.0000, Validation Loss: 0.0000\n",
      "Epoch [166/300], Training Loss: 0.0000, Validation Loss: 0.0000\n",
      "Epoch [167/300], Training Loss: 0.0000, Validation Loss: 0.0000\n",
      "Epoch [168/300], Training Loss: 0.0000, Validation Loss: 0.0000\n",
      "Epoch [169/300], Training Loss: 0.0000, Validation Loss: 0.0000\n",
      "Epoch [170/300], Training Loss: 0.0000, Validation Loss: 0.0000\n",
      "Epoch [171/300], Training Loss: 0.0000, Validation Loss: 0.0000\n",
      "Epoch [172/300], Training Loss: 0.0000, Validation Loss: 0.0000\n",
      "Epoch [173/300], Training Loss: 0.0000, Validation Loss: 0.0000\n",
      "Epoch [174/300], Training Loss: 0.0000, Validation Loss: 0.0000\n",
      "Epoch [175/300], Training Loss: 0.0000, Validation Loss: 0.0000\n",
      "Epoch [176/300], Training Loss: 0.0000, Validation Loss: 0.0000\n",
      "Epoch [177/300], Training Loss: 0.0000, Validation Loss: 0.0000\n",
      "Epoch [178/300], Training Loss: 0.0000, Validation Loss: 0.0000\n",
      "Epoch [179/300], Training Loss: 0.0000, Validation Loss: 0.0000\n",
      "Epoch [180/300], Training Loss: 0.0000, Validation Loss: 0.0000\n",
      "Epoch [181/300], Training Loss: 0.0000, Validation Loss: 0.0000\n",
      "Epoch [182/300], Training Loss: 0.0000, Validation Loss: 0.0000\n",
      "Epoch [183/300], Training Loss: 0.0000, Validation Loss: 0.0000\n",
      "Epoch [184/300], Training Loss: 0.0000, Validation Loss: 0.0000\n",
      "Epoch [185/300], Training Loss: 0.0000, Validation Loss: 0.0000\n",
      "Epoch [186/300], Training Loss: 0.0000, Validation Loss: 0.0000\n",
      "Epoch [187/300], Training Loss: 0.0000, Validation Loss: 0.0000\n",
      "Epoch [188/300], Training Loss: 0.0000, Validation Loss: 0.0000\n",
      "Epoch [189/300], Training Loss: 0.0000, Validation Loss: 0.0000\n",
      "Epoch [190/300], Training Loss: 0.0000, Validation Loss: 0.0000\n",
      "Epoch [191/300], Training Loss: 0.0000, Validation Loss: 0.0000\n",
      "Epoch [192/300], Training Loss: 0.0000, Validation Loss: 0.0000\n",
      "Epoch [193/300], Training Loss: 0.0000, Validation Loss: 0.0000\n",
      "Epoch [194/300], Training Loss: 0.0000, Validation Loss: 0.0000\n",
      "Epoch [195/300], Training Loss: 0.0000, Validation Loss: 0.0000\n",
      "Epoch [196/300], Training Loss: 0.0000, Validation Loss: 0.0000\n",
      "Epoch [197/300], Training Loss: 0.0000, Validation Loss: 0.0000\n",
      "Epoch [198/300], Training Loss: 0.0000, Validation Loss: 0.0000\n",
      "Epoch [199/300], Training Loss: 0.0000, Validation Loss: 0.0000\n",
      "Epoch [200/300], Training Loss: 0.0000, Validation Loss: 0.0000\n",
      "Epoch [201/300], Training Loss: 0.0000, Validation Loss: 0.0000\n",
      "Epoch [202/300], Training Loss: 0.0000, Validation Loss: 0.0000\n",
      "Epoch [203/300], Training Loss: 0.0000, Validation Loss: 0.0000\n",
      "Epoch [204/300], Training Loss: 0.0000, Validation Loss: 0.0000\n",
      "Epoch [205/300], Training Loss: 0.2703, Validation Loss: 0.2178\n",
      "Epoch [206/300], Training Loss: 0.0258, Validation Loss: 0.0023\n",
      "Epoch [207/300], Training Loss: 0.0014, Validation Loss: 0.0014\n",
      "Epoch [208/300], Training Loss: 0.0008, Validation Loss: 0.0009\n",
      "Epoch [209/300], Training Loss: 0.0006, Validation Loss: 0.0007\n",
      "Epoch [210/300], Training Loss: 0.0005, Validation Loss: 0.0006\n",
      "Epoch [211/300], Training Loss: 0.0004, Validation Loss: 0.0005\n",
      "Epoch [212/300], Training Loss: 0.0003, Validation Loss: 0.0004\n",
      "Epoch [213/300], Training Loss: 0.0003, Validation Loss: 0.0003\n",
      "Epoch [214/300], Training Loss: 0.0002, Validation Loss: 0.0003\n",
      "Epoch [215/300], Training Loss: 0.0002, Validation Loss: 0.0003\n",
      "Epoch [216/300], Training Loss: 0.0002, Validation Loss: 0.0002\n",
      "Epoch [217/300], Training Loss: 0.0001, Validation Loss: 0.0002\n",
      "Epoch [218/300], Training Loss: 0.0001, Validation Loss: 0.0002\n",
      "Epoch [219/300], Training Loss: 0.0001, Validation Loss: 0.0002\n",
      "Epoch [220/300], Training Loss: 0.0001, Validation Loss: 0.0001\n",
      "Epoch [221/300], Training Loss: 0.0001, Validation Loss: 0.0001\n",
      "Epoch [222/300], Training Loss: 0.0001, Validation Loss: 0.0001\n",
      "Epoch [223/300], Training Loss: 0.0001, Validation Loss: 0.0001\n",
      "Epoch [224/300], Training Loss: 0.0001, Validation Loss: 0.0001\n",
      "Epoch [225/300], Training Loss: 0.0001, Validation Loss: 0.0001\n",
      "Epoch [226/300], Training Loss: 0.0000, Validation Loss: 0.0001\n",
      "Epoch [227/300], Training Loss: 0.0000, Validation Loss: 0.0001\n",
      "Epoch [228/300], Training Loss: 0.0000, Validation Loss: 0.0001\n",
      "Epoch [229/300], Training Loss: 0.0000, Validation Loss: 0.0001\n",
      "Epoch [230/300], Training Loss: 0.0000, Validation Loss: 0.0001\n",
      "Epoch [231/300], Training Loss: 0.0000, Validation Loss: 0.0000\n",
      "Epoch [232/300], Training Loss: 0.0000, Validation Loss: 0.0000\n",
      "Epoch [233/300], Training Loss: 0.0000, Validation Loss: 0.0000\n",
      "Epoch [234/300], Training Loss: 0.0000, Validation Loss: 0.0000\n",
      "Epoch [235/300], Training Loss: 0.0000, Validation Loss: 0.0000\n",
      "Epoch [236/300], Training Loss: 0.0000, Validation Loss: 0.0000\n",
      "Epoch [237/300], Training Loss: 0.0000, Validation Loss: 0.0000\n",
      "Epoch [238/300], Training Loss: 0.0000, Validation Loss: 0.0000\n",
      "Epoch [239/300], Training Loss: 0.0000, Validation Loss: 0.0000\n",
      "Epoch [240/300], Training Loss: 0.0000, Validation Loss: 0.0000\n",
      "Epoch [241/300], Training Loss: 0.0000, Validation Loss: 0.0000\n",
      "Epoch [242/300], Training Loss: 0.0000, Validation Loss: 0.0000\n",
      "Epoch [243/300], Training Loss: 0.0000, Validation Loss: 0.0000\n",
      "Epoch [244/300], Training Loss: 0.0000, Validation Loss: 0.0000\n",
      "Epoch [245/300], Training Loss: 0.0000, Validation Loss: 0.0000\n",
      "Epoch [246/300], Training Loss: 0.0000, Validation Loss: 0.0000\n",
      "Epoch [247/300], Training Loss: 0.0000, Validation Loss: 0.0000\n",
      "Epoch [248/300], Training Loss: 0.0000, Validation Loss: 0.0000\n",
      "Epoch [249/300], Training Loss: 0.0000, Validation Loss: 0.0000\n",
      "Epoch [250/300], Training Loss: 0.0000, Validation Loss: 0.0000\n",
      "Epoch [251/300], Training Loss: 0.0000, Validation Loss: 0.0000\n",
      "Epoch [252/300], Training Loss: 0.0000, Validation Loss: 0.0000\n",
      "Epoch [253/300], Training Loss: 0.0000, Validation Loss: 0.0000\n",
      "Epoch [254/300], Training Loss: 0.0000, Validation Loss: 0.0000\n",
      "Epoch [255/300], Training Loss: 0.0000, Validation Loss: 0.0000\n",
      "Epoch [256/300], Training Loss: 0.0000, Validation Loss: 0.0000\n",
      "Epoch [257/300], Training Loss: 0.0000, Validation Loss: 0.0000\n",
      "Epoch [258/300], Training Loss: 0.0000, Validation Loss: 0.0000\n",
      "Epoch [259/300], Training Loss: 0.0000, Validation Loss: 0.0000\n",
      "Epoch [260/300], Training Loss: 0.0000, Validation Loss: 0.0000\n",
      "Epoch [261/300], Training Loss: 0.0000, Validation Loss: 0.0000\n",
      "Epoch [262/300], Training Loss: 0.0000, Validation Loss: 0.0000\n",
      "Epoch [263/300], Training Loss: 0.0000, Validation Loss: 0.0000\n",
      "Epoch [264/300], Training Loss: 0.0000, Validation Loss: 0.0000\n",
      "Epoch [265/300], Training Loss: 0.0000, Validation Loss: 0.0000\n",
      "Epoch [266/300], Training Loss: 0.0000, Validation Loss: 0.0000\n",
      "Epoch [267/300], Training Loss: 0.0000, Validation Loss: 0.0000\n",
      "Epoch [268/300], Training Loss: 0.0000, Validation Loss: 0.0000\n",
      "Epoch [269/300], Training Loss: 0.0000, Validation Loss: 0.0000\n",
      "Epoch [270/300], Training Loss: 0.0000, Validation Loss: 0.0000\n",
      "Epoch [271/300], Training Loss: 0.0000, Validation Loss: 0.0000\n",
      "Epoch [272/300], Training Loss: 0.0000, Validation Loss: 0.0000\n",
      "Epoch [273/300], Training Loss: 0.0000, Validation Loss: 0.0000\n",
      "Epoch [274/300], Training Loss: 0.0000, Validation Loss: 0.0000\n",
      "Epoch [275/300], Training Loss: 0.0000, Validation Loss: 0.0000\n",
      "Epoch [276/300], Training Loss: 0.0000, Validation Loss: 0.0000\n",
      "Epoch [277/300], Training Loss: 0.0000, Validation Loss: 0.0000\n",
      "Epoch [278/300], Training Loss: 0.0000, Validation Loss: 0.0000\n",
      "Epoch [279/300], Training Loss: 0.0000, Validation Loss: 0.0000\n",
      "Epoch [280/300], Training Loss: 0.0000, Validation Loss: 0.0000\n",
      "Epoch [281/300], Training Loss: 0.0000, Validation Loss: 0.0000\n",
      "Epoch [282/300], Training Loss: 0.0000, Validation Loss: 0.0000\n",
      "Epoch [283/300], Training Loss: 0.0000, Validation Loss: 0.0000\n",
      "Epoch [284/300], Training Loss: 0.0000, Validation Loss: 0.0000\n",
      "Epoch [285/300], Training Loss: 0.0000, Validation Loss: 0.0000\n",
      "Epoch [286/300], Training Loss: 0.0000, Validation Loss: 0.0000\n",
      "Epoch [287/300], Training Loss: 0.0000, Validation Loss: 0.0000\n",
      "Epoch [288/300], Training Loss: 0.0000, Validation Loss: 0.0000\n",
      "Epoch [289/300], Training Loss: 0.0000, Validation Loss: 0.0000\n",
      "Epoch [290/300], Training Loss: 0.0000, Validation Loss: 0.0000\n",
      "Epoch [291/300], Training Loss: 0.0000, Validation Loss: 0.0000\n",
      "Epoch [292/300], Training Loss: 0.0000, Validation Loss: 0.0000\n",
      "Epoch [293/300], Training Loss: 0.0000, Validation Loss: 0.0000\n",
      "Epoch [294/300], Training Loss: 0.0000, Validation Loss: 0.0000\n",
      "Epoch [295/300], Training Loss: 0.0000, Validation Loss: 0.0000\n",
      "Epoch [296/300], Training Loss: 0.0000, Validation Loss: 0.0000\n",
      "Epoch [297/300], Training Loss: 0.0000, Validation Loss: 0.0000\n",
      "Epoch [298/300], Training Loss: 0.0000, Validation Loss: 0.0000\n",
      "Epoch [299/300], Training Loss: 0.0000, Validation Loss: 0.0000\n",
      "Epoch [300/300], Training Loss: 0.0000, Validation Loss: 0.0000\n"
     ]
    },
    {
     "data": {
      "image/png": "[encoded data removed]",
      "text/plain": [
       "<Figure size 640x480 with 1 Axes>"
      ]
     },
     "metadata": {},
     "output_type": "display_data"
    }
   ],
   "source": [
    "import torch.optim as optim\n",
    "\n",
    "conv_net = ConvNet(number_of_hidden_units=number_of_hidden_units_TORCH).float()\n",
    "\n",
    "device = torch.device(\"cuda:0\" if torch.cuda.is_available() else \"cpu\")\n",
    "conv_net.to(device)\n",
    "\n",
    "loss_function = nn.CrossEntropyLoss()\n",
    "optimizer = optim.Adam(conv_net.parameters(), lr = 0.001)\n",
    "\n",
    "train_losses = []\n",
    "val_losses = []\n",
    "\n",
    "num_epochs = 300\n",
    "for epoch in range(num_epochs):\n",
    "\n",
    "    conv_net.train()\n",
    "    train_loss = 0.0\n",
    "\n",
    "    for images, labels in train_loader:\n",
    "\n",
    "        images, labels = images.to(device), labels.to(device)\n",
    "\n",
    "        optimizer.zero_grad()\n",
    "        \n",
    "        outputs = conv_net(images)\n",
    "        loss = loss_function(outputs, labels)\n",
    "\n",
    "        loss.backward()\n",
    "        optimizer.step()\n",
    "\n",
    "        train_loss+=loss.item()\n",
    "\n",
    "    conv_net.eval()\n",
    "    val_loss = 0.0\n",
    "    with torch.no_grad():\n",
    "        for images, labels in val_loader:\n",
    "            images, labels = images.to(device), labels.to(device)\n",
    "            outputs = conv_net(images)\n",
    "            loss = loss_function(outputs, labels)\n",
    "            val_loss+=loss.item()\n",
    "\n",
    "    avg_train_loss = train_loss / len(train_loader)\n",
    "    avg_val_loss = val_loss/len(val_loader)\n",
    "    train_losses.append(avg_train_loss)\n",
    "    val_losses.append(avg_val_loss)\n",
    "    \n",
    "    print(f'Epoch [{epoch+1}/{num_epochs}], Training Loss: {avg_train_loss:.4f}, Validation Loss: {avg_val_loss:.4f}')\n",
    "\n",
    "# We can save the model parameters as a .pth file\n",
    "model_path = 'conv_net_params.pth'\n",
    "torch.save(conv_net.state_dict(), model_path)\n",
    "\n",
    "plot_losses(train_losses, val_losses)"
   ]
  },
  {
   "cell_type": "code",
   "execution_count": null,
   "metadata": {},
   "outputs": [],
   "source": [
    "def get_accuracy_stats_TORCH(model : ConvNet, params_path, X_test:torch.tensor, y_test:torch.tensor, X_train:torch.tensor, y_train:torch.tensor):\n",
    "    model.load_state_dict(torch.load(params_path))\n",
    "    model.eval() #faster\n",
    "\n",
    "    device = torch.device(\"cpu\")\n",
    "    model.to(device)\n",
    "    X_test=X_test.to(device)\n",
    "    y_test=y_test.to(device)\n",
    "    X_train=X_train.to(device)\n",
    "    y_train=y_train.to(device)\n",
    "\n",
    "    with torch.no_grad():\n",
    "        probabilities_test = model.forward(X_test, apply_softmax=True)\n",
    "        test_accuracy = evaluate_accuracy(y_test.numpy(), probabilities_test.numpy())*100\n",
    "        probabilities_train = model.forward(X_train, apply_softmax=True)\n",
    "        train_accuracy = evaluate_accuracy(y_train.numpy(), probabilities_train.numpy())*100\n",
    "    \n",
    "    print(f\"Train accuracy = {train_accuracy:.2f}%\")\n",
    "    print(f\"Test accuracy = {test_accuracy:.2f}%\")\n",
    "    return train_accuracy, test_accuracy"
   ]
  },
  {
   "cell_type": "code",
   "execution_count": null,
   "metadata": {},
   "outputs": [
    {
     "name": "stdout",
     "output_type": "stream",
     "text": [
      "Train accuracy = 100.00%\n",
      "Test accuracy = 91.70%\n"
     ]
    },
    {
     "data": {
      "text/plain": [
       "(100.0, 91.70384829894033)"
      ]
     },
     "execution_count": 70,
     "metadata": {},
     "output_type": "execute_result"
    }
   ],
   "source": [
    "get_accuracy_stats_TORCH(conv_net, model_path, X_test_tensor, y_test_tensor, X_train_tensor, y_train_tensor)"
   ]
  },
  {
   "cell_type": "markdown",
   "metadata": {},
   "source": [
    "<h1> TODO EXPLORE DIFFERENT NUMBER OF HIDDEN WEIGHTS: I DID 32 AND 64, 32 GOT 90% TEST, 64 GOT 91.7% </H1>"
   ]
  }
 ],
 "metadata": {
  "kernelspec": {
   "display_name": "GrITPythonEnv",
   "language": "python",
   "name": "python3"
  },
  "language_info": {
   "codemirror_mode": {
    "name": "ipython",
    "version": 3
   },
   "file_extension": ".py",
   "mimetype": "text/x-python",
   "name": "python",
   "nbconvert_exporter": "python",
   "pygments_lexer": "ipython3",
   "version": "3.12.2"
  }
 },
 "nbformat": 4,
 "nbformat_minor": 2
}
